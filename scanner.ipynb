{
 "cells": [
  {
   "cell_type": "code",
   "execution_count": 1,
   "id": "713e5975-ef92-434a-a96a-7027e2aa3c2f",
   "metadata": {},
   "outputs": [
    {
     "name": "stdout",
     "output_type": "stream",
     "text": [
      "\u001b[94mℹ️ INFO: written - ./fed.txt\u001b[0m\n",
      "\u001b[93m🚨 WARN: path not found\u001b[0m\n",
      "\u001b[96m☕️ WAIT: no header set - attempting `.keys()`\u001b[0m\n",
      "\u001b[92m🌊 SUCCESS: headers detected as ['file', 'path'] from `.keys()`\u001b[0m\n",
      "\u001b[94mℹ️ INFO: [file, path, ts] header used\u001b[0m\n",
      "\u001b[94mℹ️ INFO: created ./fed.csv\u001b[0m\n",
      "\u001b[94mℹ️ INFO: timestamped - 2023-08-31 16:10:33.464951\u001b[0m\n",
      "\u001b[92m🌊 SUCCESS: 1 written to ./fed.csv\u001b[0m\n",
      "\u001b[93m🚨 WARN: fed.txt destroyed from ./fed.txt\u001b[0m\n",
      "\u001b[93m🚨 WARN: fed.csv destroyed from ./fed.csv\u001b[0m\n"
     ]
    }
   ],
   "source": [
    "# single file & receipt creation, then deletion\n",
    "from swan.copier import Copier\n",
    "from swan.receipts import Receipts\n",
    "data = []\n",
    "copy = Copier(url='https://www.federalreserve.gov/monetarypolicy/fomchistorical2017.htm')\n",
    "if copy.download('./fed.txt'):\n",
    "    data.append({\"file\":copy.url, \"path\":f'{copy.path}'})\n",
    "receipts = Receipts(path='./fed.csv', data=data)\n",
    "receipts.create(True)\n",
    "receipts.write(False)\n",
    "copy.destroy(confirm=copy.path.split('/')[-1])\n",
    "receipts.destroy(confirm=receipts.path.split('/')[-1])"
   ]
  },
  {
   "cell_type": "code",
   "execution_count": 2,
   "id": "b70be8dc-9224-4c8e-bbf5-5f5d89c43546",
   "metadata": {},
   "outputs": [
    {
     "name": "stdout",
     "output_type": "stream",
     "text": [
      "\u001b[96m☕️ WAIT: processing https://www.federalreserve.gov/monetarypolicy/fomchistorical2017.htm\u001b[0m\n"
     ]
    },
    {
     "name": "stderr",
     "output_type": "stream",
     "text": [
      "100%|██████████| 326/326 [00:00<00:00, 155009.99it/s]"
     ]
    },
    {
     "name": "stdout",
     "output_type": "stream",
     "text": [
      "\u001b[94mℹ️ INFO: found - https://www.federalreserve.gov/monetarypolicy/beigebook/files/Beigebook_20170118.pdf\u001b[0m\n",
      "\u001b[94mℹ️ INFO: found - https://www.federalreserve.gov/monetarypolicy/files/FOMC20170201tealbooka20170123.pdf\u001b[0m\n",
      "\u001b[94mℹ️ INFO: found - https://www.federalreserve.gov/monetarypolicy/files/FOMC20170201tealbookb20170126.pdf\u001b[0m\n",
      "\u001b[94mℹ️ INFO: found - https://www.federalreserve.gov/monetarypolicy/files/FOMC20170201Agenda.pdf\u001b[0m\n",
      "\u001b[94mℹ️ INFO: found - https://www.federalreserve.gov/monetarypolicy/files/FOMC_LongerRunGoals_201701.pdf\u001b[0m\n",
      "\u001b[94mℹ️ INFO: found - https://www.federalreserve.gov/monetarypolicy/files/fomcminutes20170201.pdf\u001b[0m\n",
      "\u001b[94mℹ️ INFO: found - https://www.federalreserve.gov/monetarypolicy/files/FOMC20170201meeting.pdf\u001b[0m\n",
      "\u001b[94mℹ️ INFO: found - https://www.federalreserve.gov/monetarypolicy/files/FOMC20170201material.pdf\u001b[0m\n",
      "\u001b[94mℹ️ INFO: found - https://www.federalreserve.gov/monetarypolicy/files/Beigebook_20170301.pdf\u001b[0m\n",
      "\u001b[94mℹ️ INFO: found - https://www.federalreserve.gov/monetarypolicy/files/FOMC20170315tealbooka20170303.pdf\u001b[0m\n",
      "\u001b[94mℹ️ INFO: found - https://www.federalreserve.gov/monetarypolicy/files/FOMC20170315tealbookb20170309.pdf\u001b[0m\n",
      "\u001b[94mℹ️ INFO: found - https://www.federalreserve.gov/monetarypolicy/files/FOMC20170315Agenda.pdf\u001b[0m\n",
      "\u001b[94mℹ️ INFO: found - https://www.federalreserve.gov/monetarypolicy/files/fomcminutes20170315.pdf\u001b[0m\n",
      "\u001b[94mℹ️ INFO: found - https://www.federalreserve.gov/monetarypolicy/files/FOMC20170315SEPcompilation.pdf\u001b[0m\n",
      "\u001b[94mℹ️ INFO: found - https://www.federalreserve.gov/monetarypolicy/files/FOMC20170315SEPkey.pdf\u001b[0m\n",
      "\u001b[94mℹ️ INFO: found - https://www.federalreserve.gov/monetarypolicy/files/FOMC20170315meeting.pdf\u001b[0m\n",
      "\u001b[94mℹ️ INFO: found - https://www.federalreserve.gov/monetarypolicy/files/FOMC20170315material.pdf\u001b[0m\n",
      "\u001b[94mℹ️ INFO: found - https://www.federalreserve.gov/monetarypolicy/files/Beigebook_20170419.pdf\u001b[0m\n",
      "\u001b[94mℹ️ INFO: found - https://www.federalreserve.gov/monetarypolicy/files/FOMC20170503tealbooka20170421.pdf\u001b[0m\n",
      "\u001b[94mℹ️ INFO: found - https://www.federalreserve.gov/monetarypolicy/files/FOMC20170503tealbookb20170427.pdf\u001b[0m\n",
      "\u001b[94mℹ️ INFO: found - https://www.federalreserve.gov/monetarypolicy/files/FOMC20170503Agenda.pdf\u001b[0m\n",
      "\u001b[94mℹ️ INFO: found - https://www.federalreserve.gov/monetarypolicy/files/fomcminutes20170503.pdf\u001b[0m\n",
      "\u001b[94mℹ️ INFO: found - https://www.federalreserve.gov/monetarypolicy/files/FOMC20170503meeting.pdf\u001b[0m\n",
      "\u001b[94mℹ️ INFO: found - https://www.federalreserve.gov/monetarypolicy/files/FOMC20170503material.pdf\u001b[0m\n",
      "\u001b[94mℹ️ INFO: found - https://www.federalreserve.gov/monetarypolicy/files/BeigeBook_20170531.pdf\u001b[0m\n",
      "\u001b[94mℹ️ INFO: found - https://www.federalreserve.gov/monetarypolicy/files/FOMC20170614tealbooka20170605.pdf\u001b[0m\n",
      "\u001b[94mℹ️ INFO: found - https://www.federalreserve.gov/monetarypolicy/files/FOMC20170614tealbookb20170608.pdf\u001b[0m\n",
      "\u001b[94mℹ️ INFO: found - https://www.federalreserve.gov/monetarypolicy/files/FOMC20170614Agenda.pdf\u001b[0m\n",
      "\u001b[94mℹ️ INFO: found - https://www.federalreserve.gov/monetarypolicy/files/fomcminutes20170614.pdf\u001b[0m\n",
      "\u001b[94mℹ️ INFO: found - https://www.federalreserve.gov/monetarypolicy/files/FOMC20170614SEPcompilation.pdf\u001b[0m\n",
      "\u001b[94mℹ️ INFO: found - https://www.federalreserve.gov/monetarypolicy/files/FOMC20170614SEPkey.pdf\u001b[0m\n",
      "\u001b[94mℹ️ INFO: found - https://www.federalreserve.gov/monetarypolicy/files/FOMC20170614meeting.pdf\u001b[0m\n",
      "\u001b[94mℹ️ INFO: found - https://www.federalreserve.gov/monetarypolicy/files/FOMC20170614material.pdf\u001b[0m\n",
      "\u001b[94mℹ️ INFO: found - https://www.federalreserve.gov/monetarypolicy/files/BeigeBook_20170712.pdf\u001b[0m\n",
      "\u001b[94mℹ️ INFO: found - https://www.federalreserve.gov/monetarypolicy/files/FOMC20170726tealbooka20170714.pdf\u001b[0m\n",
      "\u001b[94mℹ️ INFO: found - https://www.federalreserve.gov/monetarypolicy/files/FOMC20170726tealbookb20170720.pdf\u001b[0m\n",
      "\u001b[94mℹ️ INFO: found - https://www.federalreserve.gov/monetarypolicy/files/FOMC20170726Agenda.pdf\u001b[0m\n",
      "\u001b[94mℹ️ INFO: found - https://www.federalreserve.gov/monetarypolicy/files/fomcminutes20170726.pdf\u001b[0m\n",
      "\u001b[94mℹ️ INFO: found - https://www.federalreserve.gov/monetarypolicy/files/FOMC20170726meeting.pdf\u001b[0m\n",
      "\u001b[94mℹ️ INFO: found - https://www.federalreserve.gov/monetarypolicy/files/FOMC20170726material.pdf\u001b[0m\n",
      "\u001b[94mℹ️ INFO: found - https://www.federalreserve.gov/monetarypolicy/files/Beigebook_20170906.pdf\u001b[0m\n",
      "\u001b[94mℹ️ INFO: found - https://www.federalreserve.gov/monetarypolicy/files/FOMC20170920tealbooka20170908.pdf\u001b[0m\n",
      "\u001b[94mℹ️ INFO: found - https://www.federalreserve.gov/monetarypolicy/files/FOMC20170920tealbookb20170914.pdf\u001b[0m\n",
      "\u001b[94mℹ️ INFO: found - https://www.federalreserve.gov/monetarypolicy/files/FOMC20170920Agenda.pdf\u001b[0m\n",
      "\u001b[94mℹ️ INFO: found - https://www.federalreserve.gov/monetarypolicy/files/fomcminutes20170920.pdf\u001b[0m\n",
      "\u001b[94mℹ️ INFO: found - https://www.federalreserve.gov/monetarypolicy/files/FOMC20170920SEPcompilation.pdf\u001b[0m\n",
      "\u001b[94mℹ️ INFO: found - https://www.federalreserve.gov/monetarypolicy/files/FOMC20170920SEPkey.pdf\u001b[0m\n",
      "\u001b[94mℹ️ INFO: found - https://www.federalreserve.gov/monetarypolicy/files/FOMC20170920meeting.pdf\u001b[0m\n",
      "\u001b[94mℹ️ INFO: found - https://www.federalreserve.gov/monetarypolicy/files/FOMC20170920material.pdf\u001b[0m\n",
      "\u001b[94mℹ️ INFO: found - https://www.federalreserve.gov/monetarypolicy/files/BeigeBook_20171018.pdf\u001b[0m\n",
      "\u001b[94mℹ️ INFO: found - https://www.federalreserve.gov/monetarypolicy/files/FOMC20171101tealbooka20171020.pdf\u001b[0m\n",
      "\u001b[94mℹ️ INFO: found - https://www.federalreserve.gov/monetarypolicy/files/FOMC20171101tealbookb20171026.pdf\u001b[0m\n",
      "\u001b[94mℹ️ INFO: found - https://www.federalreserve.gov/monetarypolicy/files/FOMC20171101Agenda.pdf\u001b[0m\n",
      "\u001b[94mℹ️ INFO: found - https://www.federalreserve.gov/monetarypolicy/files/fomcminutes20171101.pdf\u001b[0m\n",
      "\u001b[94mℹ️ INFO: found - https://www.federalreserve.gov/monetarypolicy/files/FOMC20171101meeting.pdf\u001b[0m\n",
      "\u001b[94mℹ️ INFO: found - https://www.federalreserve.gov/monetarypolicy/files/FOMC20171101material.pdf\u001b[0m\n",
      "\u001b[94mℹ️ INFO: found - https://www.federalreserve.gov/monetarypolicy/files/BeigeBook_20171129.pdf\u001b[0m\n",
      "\u001b[94mℹ️ INFO: found - https://www.federalreserve.gov/monetarypolicy/files/FOMC20171213tealbooka20171201.pdf\u001b[0m\n",
      "\u001b[94mℹ️ INFO: found - https://www.federalreserve.gov/monetarypolicy/files/FOMC20171213tealbookb20171207.pdf\u001b[0m\n",
      "\u001b[94mℹ️ INFO: found - https://www.federalreserve.gov/monetarypolicy/files/FOMC20171213Agenda.pdf\u001b[0m\n",
      "\u001b[94mℹ️ INFO: found - https://www.federalreserve.gov/monetarypolicy/files/fomcminutes20171213.pdf\u001b[0m\n",
      "\u001b[94mℹ️ INFO: found - https://www.federalreserve.gov/monetarypolicy/files/FOMC20171213SEPcompilation.pdf\u001b[0m\n",
      "\u001b[94mℹ️ INFO: found - https://www.federalreserve.gov/monetarypolicy/files/FOMC20171213SEPkey.pdf\u001b[0m\n",
      "\u001b[94mℹ️ INFO: found - https://www.federalreserve.gov/monetarypolicy/files/FOMC20171213meeting.pdf\u001b[0m\n",
      "\u001b[94mℹ️ INFO: found - https://www.federalreserve.gov/monetarypolicy/files/FOMC20171213material.pdf\u001b[0m\n"
     ]
    },
    {
     "name": "stderr",
     "output_type": "stream",
     "text": [
      "\n"
     ]
    },
    {
     "name": "stdout",
     "output_type": "stream",
     "text": [
      "\u001b[94mℹ️ INFO: written - ./fed/Beigebook_20170118.pdf\u001b[0m\n",
      "\u001b[94mℹ️ INFO: written - ./fed/FOMC20170201tealbooka20170123.pdf\u001b[0m\n",
      "\u001b[94mℹ️ INFO: written - ./fed/FOMC20170201tealbookb20170126.pdf\u001b[0m\n",
      "\u001b[94mℹ️ INFO: written - ./fed/FOMC20170201Agenda.pdf\u001b[0m\n",
      "\u001b[94mℹ️ INFO: written - ./fed/FOMC_LongerRunGoals_201701.pdf\u001b[0m\n",
      "\u001b[94mℹ️ INFO: written - ./fed/fomcminutes20170201.pdf\u001b[0m\n",
      "\u001b[94mℹ️ INFO: written - ./fed/FOMC20170201meeting.pdf\u001b[0m\n",
      "\u001b[94mℹ️ INFO: written - ./fed/FOMC20170201material.pdf\u001b[0m\n",
      "\u001b[94mℹ️ INFO: written - ./fed/Beigebook_20170301.pdf\u001b[0m\n",
      "\u001b[94mℹ️ INFO: written - ./fed/FOMC20170315tealbooka20170303.pdf\u001b[0m\n",
      "\u001b[94mℹ️ INFO: written - ./fed/FOMC20170315tealbookb20170309.pdf\u001b[0m\n",
      "\u001b[94mℹ️ INFO: written - ./fed/FOMC20170315Agenda.pdf\u001b[0m\n",
      "\u001b[94mℹ️ INFO: written - ./fed/fomcminutes20170315.pdf\u001b[0m\n",
      "\u001b[94mℹ️ INFO: written - ./fed/FOMC20170315SEPcompilation.pdf\u001b[0m\n",
      "\u001b[94mℹ️ INFO: written - ./fed/FOMC20170315SEPkey.pdf\u001b[0m\n",
      "\u001b[94mℹ️ INFO: written - ./fed/FOMC20170315meeting.pdf\u001b[0m\n",
      "\u001b[94mℹ️ INFO: written - ./fed/FOMC20170315material.pdf\u001b[0m\n",
      "\u001b[94mℹ️ INFO: written - ./fed/Beigebook_20170419.pdf\u001b[0m\n",
      "\u001b[94mℹ️ INFO: written - ./fed/FOMC20170503tealbooka20170421.pdf\u001b[0m\n",
      "\u001b[94mℹ️ INFO: written - ./fed/FOMC20170503tealbookb20170427.pdf\u001b[0m\n",
      "\u001b[94mℹ️ INFO: written - ./fed/FOMC20170503Agenda.pdf\u001b[0m\n",
      "\u001b[94mℹ️ INFO: written - ./fed/fomcminutes20170503.pdf\u001b[0m\n",
      "\u001b[94mℹ️ INFO: written - ./fed/FOMC20170503meeting.pdf\u001b[0m\n",
      "\u001b[94mℹ️ INFO: written - ./fed/FOMC20170503material.pdf\u001b[0m\n",
      "\u001b[94mℹ️ INFO: written - ./fed/BeigeBook_20170531.pdf\u001b[0m\n",
      "\u001b[94mℹ️ INFO: written - ./fed/FOMC20170614tealbooka20170605.pdf\u001b[0m\n",
      "\u001b[94mℹ️ INFO: written - ./fed/FOMC20170614tealbookb20170608.pdf\u001b[0m\n",
      "\u001b[94mℹ️ INFO: written - ./fed/FOMC20170614Agenda.pdf\u001b[0m\n",
      "\u001b[94mℹ️ INFO: written - ./fed/fomcminutes20170614.pdf\u001b[0m\n",
      "\u001b[94mℹ️ INFO: written - ./fed/FOMC20170614SEPcompilation.pdf\u001b[0m\n",
      "\u001b[94mℹ️ INFO: written - ./fed/FOMC20170614SEPkey.pdf\u001b[0m\n",
      "\u001b[94mℹ️ INFO: written - ./fed/FOMC20170614meeting.pdf\u001b[0m\n",
      "\u001b[94mℹ️ INFO: written - ./fed/FOMC20170614material.pdf\u001b[0m\n",
      "\u001b[94mℹ️ INFO: written - ./fed/BeigeBook_20170712.pdf\u001b[0m\n",
      "\u001b[94mℹ️ INFO: written - ./fed/FOMC20170726tealbooka20170714.pdf\u001b[0m\n",
      "\u001b[94mℹ️ INFO: written - ./fed/FOMC20170726tealbookb20170720.pdf\u001b[0m\n",
      "\u001b[94mℹ️ INFO: written - ./fed/FOMC20170726Agenda.pdf\u001b[0m\n",
      "\u001b[94mℹ️ INFO: written - ./fed/fomcminutes20170726.pdf\u001b[0m\n",
      "\u001b[94mℹ️ INFO: written - ./fed/FOMC20170726meeting.pdf\u001b[0m\n",
      "\u001b[94mℹ️ INFO: written - ./fed/FOMC20170726material.pdf\u001b[0m\n",
      "\u001b[94mℹ️ INFO: written - ./fed/Beigebook_20170906.pdf\u001b[0m\n",
      "\u001b[94mℹ️ INFO: written - ./fed/FOMC20170920tealbooka20170908.pdf\u001b[0m\n",
      "\u001b[94mℹ️ INFO: written - ./fed/FOMC20170920tealbookb20170914.pdf\u001b[0m\n",
      "\u001b[94mℹ️ INFO: written - ./fed/FOMC20170920Agenda.pdf\u001b[0m\n",
      "\u001b[94mℹ️ INFO: written - ./fed/fomcminutes20170920.pdf\u001b[0m\n",
      "\u001b[94mℹ️ INFO: written - ./fed/FOMC20170920SEPcompilation.pdf\u001b[0m\n",
      "\u001b[94mℹ️ INFO: written - ./fed/FOMC20170920SEPkey.pdf\u001b[0m\n",
      "\u001b[94mℹ️ INFO: written - ./fed/FOMC20170920meeting.pdf\u001b[0m\n",
      "\u001b[94mℹ️ INFO: written - ./fed/FOMC20170920material.pdf\u001b[0m\n",
      "\u001b[94mℹ️ INFO: written - ./fed/BeigeBook_20171018.pdf\u001b[0m\n",
      "\u001b[94mℹ️ INFO: written - ./fed/FOMC20171101tealbooka20171020.pdf\u001b[0m\n",
      "\u001b[94mℹ️ INFO: written - ./fed/FOMC20171101tealbookb20171026.pdf\u001b[0m\n",
      "\u001b[94mℹ️ INFO: written - ./fed/FOMC20171101Agenda.pdf\u001b[0m\n",
      "\u001b[94mℹ️ INFO: written - ./fed/fomcminutes20171101.pdf\u001b[0m\n",
      "\u001b[94mℹ️ INFO: written - ./fed/FOMC20171101meeting.pdf\u001b[0m\n",
      "\u001b[94mℹ️ INFO: written - ./fed/FOMC20171101material.pdf\u001b[0m\n",
      "\u001b[94mℹ️ INFO: written - ./fed/BeigeBook_20171129.pdf\u001b[0m\n",
      "\u001b[94mℹ️ INFO: written - ./fed/FOMC20171213tealbooka20171201.pdf\u001b[0m\n",
      "\u001b[94mℹ️ INFO: written - ./fed/FOMC20171213tealbookb20171207.pdf\u001b[0m\n",
      "\u001b[94mℹ️ INFO: written - ./fed/FOMC20171213Agenda.pdf\u001b[0m\n",
      "\u001b[94mℹ️ INFO: written - ./fed/fomcminutes20171213.pdf\u001b[0m\n",
      "\u001b[94mℹ️ INFO: written - ./fed/FOMC20171213SEPcompilation.pdf\u001b[0m\n",
      "\u001b[94mℹ️ INFO: written - ./fed/FOMC20171213SEPkey.pdf\u001b[0m\n",
      "\u001b[94mℹ️ INFO: written - ./fed/FOMC20171213meeting.pdf\u001b[0m\n",
      "\u001b[94mℹ️ INFO: written - ./fed/FOMC20171213material.pdf\u001b[0m\n",
      "\u001b[92m🌊 SUCCESS: 65 downloaded\u001b[0m\n",
      "\u001b[93m🚨 WARN: path not found\u001b[0m\n",
      "\u001b[96m☕️ WAIT: no header set - attempting `.keys()`\u001b[0m\n",
      "\u001b[92m🌊 SUCCESS: headers detected as ['file', 'path'] from `.keys()`\u001b[0m\n",
      "\u001b[94mℹ️ INFO: [file, path, ts] header used\u001b[0m\n",
      "\u001b[94mℹ️ INFO: created ./fed.csv\u001b[0m\n",
      "\u001b[94mℹ️ INFO: timestamped - 2023-08-31 16:10:54.729465\u001b[0m\n",
      "\u001b[94mℹ️ INFO: timestamped - 2023-08-31 16:10:54.729496\u001b[0m\n",
      "\u001b[94mℹ️ INFO: timestamped - 2023-08-31 16:10:54.729504\u001b[0m\n",
      "\u001b[94mℹ️ INFO: timestamped - 2023-08-31 16:10:54.729510\u001b[0m\n",
      "\u001b[94mℹ️ INFO: timestamped - 2023-08-31 16:10:54.729516\u001b[0m\n",
      "\u001b[94mℹ️ INFO: timestamped - 2023-08-31 16:10:54.729525\u001b[0m\n",
      "\u001b[94mℹ️ INFO: timestamped - 2023-08-31 16:10:54.729532\u001b[0m\n",
      "\u001b[94mℹ️ INFO: timestamped - 2023-08-31 16:10:54.729539\u001b[0m\n",
      "\u001b[94mℹ️ INFO: timestamped - 2023-08-31 16:10:54.729552\u001b[0m\n",
      "\u001b[94mℹ️ INFO: timestamped - 2023-08-31 16:10:54.729557\u001b[0m\n",
      "\u001b[94mℹ️ INFO: timestamped - 2023-08-31 16:10:54.729563\u001b[0m\n",
      "\u001b[94mℹ️ INFO: timestamped - 2023-08-31 16:10:54.729569\u001b[0m\n",
      "\u001b[94mℹ️ INFO: timestamped - 2023-08-31 16:10:54.729574\u001b[0m\n",
      "\u001b[94mℹ️ INFO: timestamped - 2023-08-31 16:10:54.729579\u001b[0m\n",
      "\u001b[94mℹ️ INFO: timestamped - 2023-08-31 16:10:54.729585\u001b[0m\n",
      "\u001b[94mℹ️ INFO: timestamped - 2023-08-31 16:10:54.729590\u001b[0m\n",
      "\u001b[94mℹ️ INFO: timestamped - 2023-08-31 16:10:54.729595\u001b[0m\n",
      "\u001b[94mℹ️ INFO: timestamped - 2023-08-31 16:10:54.729601\u001b[0m\n",
      "\u001b[94mℹ️ INFO: timestamped - 2023-08-31 16:10:54.729606\u001b[0m\n",
      "\u001b[94mℹ️ INFO: timestamped - 2023-08-31 16:10:54.729611\u001b[0m\n",
      "\u001b[94mℹ️ INFO: timestamped - 2023-08-31 16:10:54.729616\u001b[0m\n",
      "\u001b[94mℹ️ INFO: timestamped - 2023-08-31 16:10:54.729621\u001b[0m\n",
      "\u001b[94mℹ️ INFO: timestamped - 2023-08-31 16:10:54.729627\u001b[0m\n",
      "\u001b[94mℹ️ INFO: timestamped - 2023-08-31 16:10:54.729632\u001b[0m\n",
      "\u001b[94mℹ️ INFO: timestamped - 2023-08-31 16:10:54.729637\u001b[0m\n",
      "\u001b[94mℹ️ INFO: timestamped - 2023-08-31 16:10:54.729643\u001b[0m\n",
      "\u001b[94mℹ️ INFO: timestamped - 2023-08-31 16:10:54.729648\u001b[0m\n",
      "\u001b[94mℹ️ INFO: timestamped - 2023-08-31 16:10:54.729654\u001b[0m\n",
      "\u001b[94mℹ️ INFO: timestamped - 2023-08-31 16:10:54.729659\u001b[0m\n",
      "\u001b[94mℹ️ INFO: timestamped - 2023-08-31 16:10:54.729664\u001b[0m\n",
      "\u001b[94mℹ️ INFO: timestamped - 2023-08-31 16:10:54.729670\u001b[0m\n",
      "\u001b[94mℹ️ INFO: timestamped - 2023-08-31 16:10:54.729675\u001b[0m\n",
      "\u001b[94mℹ️ INFO: timestamped - 2023-08-31 16:10:54.729681\u001b[0m\n",
      "\u001b[94mℹ️ INFO: timestamped - 2023-08-31 16:10:54.729687\u001b[0m\n",
      "\u001b[94mℹ️ INFO: timestamped - 2023-08-31 16:10:54.729692\u001b[0m\n",
      "\u001b[94mℹ️ INFO: timestamped - 2023-08-31 16:10:54.729697\u001b[0m\n",
      "\u001b[94mℹ️ INFO: timestamped - 2023-08-31 16:10:54.729702\u001b[0m\n",
      "\u001b[94mℹ️ INFO: timestamped - 2023-08-31 16:10:54.729708\u001b[0m\n",
      "\u001b[94mℹ️ INFO: timestamped - 2023-08-31 16:10:54.729713\u001b[0m\n",
      "\u001b[94mℹ️ INFO: timestamped - 2023-08-31 16:10:54.729718\u001b[0m\n",
      "\u001b[94mℹ️ INFO: timestamped - 2023-08-31 16:10:54.729724\u001b[0m\n",
      "\u001b[94mℹ️ INFO: timestamped - 2023-08-31 16:10:54.729729\u001b[0m\n",
      "\u001b[94mℹ️ INFO: timestamped - 2023-08-31 16:10:54.729734\u001b[0m\n",
      "\u001b[94mℹ️ INFO: timestamped - 2023-08-31 16:10:54.729740\u001b[0m\n",
      "\u001b[94mℹ️ INFO: timestamped - 2023-08-31 16:10:54.729745\u001b[0m\n",
      "\u001b[94mℹ️ INFO: timestamped - 2023-08-31 16:10:54.729750\u001b[0m\n",
      "\u001b[94mℹ️ INFO: timestamped - 2023-08-31 16:10:54.729755\u001b[0m\n",
      "\u001b[94mℹ️ INFO: timestamped - 2023-08-31 16:10:54.729761\u001b[0m\n",
      "\u001b[94mℹ️ INFO: timestamped - 2023-08-31 16:10:54.729767\u001b[0m\n",
      "\u001b[94mℹ️ INFO: timestamped - 2023-08-31 16:10:54.729772\u001b[0m\n",
      "\u001b[94mℹ️ INFO: timestamped - 2023-08-31 16:10:54.729777\u001b[0m\n",
      "\u001b[94mℹ️ INFO: timestamped - 2023-08-31 16:10:54.729787\u001b[0m\n",
      "\u001b[94mℹ️ INFO: timestamped - 2023-08-31 16:10:54.729793\u001b[0m\n",
      "\u001b[94mℹ️ INFO: timestamped - 2023-08-31 16:10:54.729798\u001b[0m\n",
      "\u001b[94mℹ️ INFO: timestamped - 2023-08-31 16:10:54.729804\u001b[0m\n",
      "\u001b[94mℹ️ INFO: timestamped - 2023-08-31 16:10:54.729809\u001b[0m\n",
      "\u001b[94mℹ️ INFO: timestamped - 2023-08-31 16:10:54.729814\u001b[0m\n",
      "\u001b[94mℹ️ INFO: timestamped - 2023-08-31 16:10:54.729819\u001b[0m\n",
      "\u001b[94mℹ️ INFO: timestamped - 2023-08-31 16:10:54.729828\u001b[0m\n",
      "\u001b[94mℹ️ INFO: timestamped - 2023-08-31 16:10:54.729833\u001b[0m\n",
      "\u001b[94mℹ️ INFO: timestamped - 2023-08-31 16:10:54.729838\u001b[0m\n",
      "\u001b[94mℹ️ INFO: timestamped - 2023-08-31 16:10:54.729844\u001b[0m\n",
      "\u001b[94mℹ️ INFO: timestamped - 2023-08-31 16:10:54.729849\u001b[0m\n",
      "\u001b[94mℹ️ INFO: timestamped - 2023-08-31 16:10:54.729854\u001b[0m\n",
      "\u001b[94mℹ️ INFO: timestamped - 2023-08-31 16:10:54.729859\u001b[0m\n",
      "\u001b[92m🌊 SUCCESS: 65 written to ./fed.csv\u001b[0m\n",
      "\u001b[93m🚨 WARN: 65 destroyed from ./fed\u001b[0m\n",
      "\u001b[93m🚨 WARN: fed.csv destroyed from ./fed.csv\u001b[0m\n"
     ]
    }
   ],
   "source": [
    "# recursive mode with three filetypes, and whole directory deletion\n",
    "from swan.copier import Copier\n",
    "from swan.receipts import Receipts\n",
    "\n",
    "copy = Copier(url='https://www.federalreserve.gov/monetarypolicy/fomchistorical2017.htm', recurse=True)\n",
    "data=[]\n",
    "files = copy.download('./fed', types=['csv','xml','pdf'])[0]\n",
    "for file in files:\n",
    "    data.append({\"file\":file, \"path\":f'{copy.path}/{file.split(\"/\")[-1]}'})\n",
    "receipts = Receipts('./fed.csv', data=data)\n",
    "receipts.create(False)\n",
    "receipts.write(False)\n",
    "copy.destroy(confirm=copy.path.split('/')[-1])\n",
    "receipts.destroy(confirm=receipts.path.split('/')[-1])"
   ]
  },
  {
   "cell_type": "code",
   "execution_count": 3,
   "id": "03428f57-8b54-430b-95dc-1ecde4f1fdde",
   "metadata": {},
   "outputs": [
    {
     "name": "stdout",
     "output_type": "stream",
     "text": [
      "hello there\n"
     ]
    }
   ],
   "source": [
    "from swan.supplies import Custom\n",
    "data = 'linkbase:hello there'\n",
    "SECSifter = Custom(copy=data)\n",
    "\n",
    "# example custom anonymous function\n",
    "SECSifter.sift = lambda _: '' if _.startswith('linkbase:') else _\n",
    "\n",
    "sifted = SECSifter.sift(data)\n",
    "print(sifted)"
   ]
  },
  {
   "cell_type": "code",
   "execution_count": 4,
   "id": "8d9a567f",
   "metadata": {},
   "outputs": [
    {
     "name": "stdout",
     "output_type": "stream",
     "text": [
      "hello there\n"
     ]
    },
    {
     "ename": "UnboundLocalError",
     "evalue": "cannot access local variable 'c' where it is not associated with a value",
     "output_type": "error",
     "traceback": [
      "\u001b[0;31m---------------------------------------------------------------------------\u001b[0m",
      "\u001b[0;31mUnboundLocalError\u001b[0m                         Traceback (most recent call last)",
      "Cell \u001b[0;32mIn[4], line 6\u001b[0m\n\u001b[1;32m      4\u001b[0m \u001b[39mprint\u001b[39m(clean)\n\u001b[1;32m      5\u001b[0m xml \u001b[39m=\u001b[39m \u001b[39m'\u001b[39m\u001b[39m<KEY>hello there</KEY>\u001b[39m\u001b[39m'\u001b[39m\n\u001b[0;32m----> 6\u001b[0m clean \u001b[39m=\u001b[39m Broom(copy\u001b[39m=\u001b[39;49mxml)\u001b[39m.\u001b[39;49msweep(xml\u001b[39m=\u001b[39;49m\u001b[39mTrue\u001b[39;49;00m)\n\u001b[1;32m      7\u001b[0m \u001b[39mprint\u001b[39m(clean)\n",
      "File \u001b[0;32m~/VSCode/LLM/swan_scrape.git/swan/supplies.py:30\u001b[0m, in \u001b[0;36mBroom.sweep\u001b[0;34m(self, xml)\u001b[0m\n\u001b[1;32m     28\u001b[0m     _c \u001b[39m=\u001b[39m re\u001b[39m.\u001b[39msub(\u001b[39mr\u001b[39m\u001b[39m'\u001b[39m\u001b[39m<[^>]+>\u001b[39m\u001b[39m'\u001b[39m, \u001b[39m'\u001b[39m\u001b[39m'\u001b[39m, _c)\n\u001b[1;32m     29\u001b[0m     c \u001b[39m=\u001b[39m _c\u001b[39m.\u001b[39mreplace(\u001b[39m'\u001b[39m\u001b[39m\\n\u001b[39;00m\u001b[39m'\u001b[39m, \u001b[39m'\u001b[39m\u001b[39m \u001b[39m\u001b[39m'\u001b[39m)\u001b[39m.\u001b[39mreplace(\u001b[39m'\u001b[39m\u001b[39m\\t\u001b[39;00m\u001b[39m'\u001b[39m, \u001b[39m'\u001b[39m\u001b[39m \u001b[39m\u001b[39m'\u001b[39m)\n\u001b[0;32m---> 30\u001b[0m \u001b[39mreturn\u001b[39;00m c\n",
      "\u001b[0;31mUnboundLocalError\u001b[0m: cannot access local variable 'c' where it is not associated with a value"
     ]
    }
   ],
   "source": [
    "data = '<html>hello there</html>'\n",
    "from swan.supplies import Broom\n",
    "clean = Broom(copy=data).sweep()\n",
    "print(clean)\n",
    "xml = '<KEY>hello there</KEY>'\n",
    "clean = Broom(copy=xml).sweep(xml=True)\n",
    "print(clean)"
   ]
  },
  {
   "cell_type": "code",
   "execution_count": null,
   "id": "54ae2f78",
   "metadata": {},
   "outputs": [
    {
     "name": "stdout",
     "output_type": "stream",
     "text": [
      "\u001b[94mℹ️ INFO: written - ./fed_processed.txt\u001b[0m\n",
      "\u001b[93m🚨 WARN: fed_processed.txt destroyed from ./fed_processed.txt\u001b[0m\n"
     ]
    }
   ],
   "source": [
    "from swan.janitor import Janitor\n",
    "worker = Janitor(path='./fed.txt', o='./fed_processed.txt')\n",
    "worker.process()\n",
    "worker.destroy(confirm=worker.o.split('/')[-1])"
   ]
  },
  {
   "cell_type": "code",
   "execution_count": null,
   "id": "5cee67ed",
   "metadata": {},
   "outputs": [],
   "source": []
  },
  {
   "cell_type": "code",
   "execution_count": null,
   "id": "78d34e70",
   "metadata": {},
   "outputs": [],
   "source": []
  }
 ],
 "metadata": {
  "kernelspec": {
   "display_name": "Python 3 (ipykernel)",
   "language": "python",
   "name": "python3"
  },
  "language_info": {
   "codemirror_mode": {
    "name": "ipython",
    "version": 3
   },
   "file_extension": ".py",
   "mimetype": "text/x-python",
   "name": "python",
   "nbconvert_exporter": "python",
   "pygments_lexer": "ipython3",
   "version": "3.11.5"
  }
 },
 "nbformat": 4,
 "nbformat_minor": 5
}
