{
 "cells": [
  {
   "cell_type": "code",
   "execution_count": 1,
   "id": "713e5975-ef92-434a-a96a-7027e2aa3c2f",
   "metadata": {},
   "outputs": [
    {
     "name": "stdout",
     "output_type": "stream",
     "text": [
      "\u001b[94mℹ️ INFO: written - ./fed.txt\u001b[0m\n",
      "\u001b[96m☕️ WAIT: no header set - attempting `.keys()`\u001b[0m\n",
      "\u001b[92m🌊 SUCCESS: headers detected as ['file', 'path'] from `.keys()`\u001b[0m\n",
      "\u001b[94mℹ️ INFO: [file, path, ts] header used\u001b[0m\n",
      "\u001b[94mℹ️ INFO: created ./fed.csv\u001b[0m\n",
      "\u001b[94mℹ️ INFO: timestamped - 2023-08-31 15:35:27.198381\u001b[0m\n",
      "\u001b[92m🌊 SUCCESS: 1 written to ./fed.csv\u001b[0m\n"
     ]
    }
   ],
   "source": [
    "# single file & receipt creation, then deletion\n",
    "from swan.copier import Copier\n",
    "from swan.receipts import Receipts\n",
    "data = []\n",
    "copy = Copier(url='https://www.federalreserve.gov/monetarypolicy/fomchistorical2017.htm')\n",
    "if copy.download('./fed.txt'):\n",
    "    data.append({\"file\":copy.url, \"path\":f'{copy.path}'})\n",
    "receipts = Receipts(path='./fed.csv', data=data)\n",
    "receipts.create(True)\n",
    "receipts.write(False)\n",
    "copy.destroy(confirm='fed.txt')\n",
    "receipts.destroy(confirm=\"fed.csv\")"
   ]
  },
  {
   "cell_type": "code",
   "execution_count": 2,
   "id": "b70be8dc-9224-4c8e-bbf5-5f5d89c43546",
   "metadata": {},
   "outputs": [
    {
     "name": "stdout",
     "output_type": "stream",
     "text": [
      "\u001b[96m☕️ WAIT: processing https://www.federalreserve.gov/monetarypolicy/fomchistorical2017.htm\u001b[0m\n"
     ]
    },
    {
     "name": "stderr",
     "output_type": "stream",
     "text": [
      "100%|██████████| 326/326 [00:00<00:00, 67493.12it/s]"
     ]
    },
    {
     "name": "stdout",
     "output_type": "stream",
     "text": [
      "\u001b[94mℹ️ INFO: found - https://www.federalreserve.gov/monetarypolicy/beigebook/files/Beigebook_20170118.pdf\u001b[0m\n",
      "\u001b[94mℹ️ INFO: found - https://www.federalreserve.gov/monetarypolicy/files/FOMC20170201tealbooka20170123.pdf\u001b[0m\n",
      "\u001b[94mℹ️ INFO: found - https://www.federalreserve.gov/monetarypolicy/files/FOMC20170201tealbookb20170126.pdf\u001b[0m\n",
      "\u001b[94mℹ️ INFO: found - https://www.federalreserve.gov/monetarypolicy/files/FOMC20170201Agenda.pdf\u001b[0m\n",
      "\u001b[94mℹ️ INFO: found - https://www.federalreserve.gov/monetarypolicy/files/FOMC_LongerRunGoals_201701.pdf\u001b[0m\n",
      "\u001b[94mℹ️ INFO: found - https://www.federalreserve.gov/monetarypolicy/files/fomcminutes20170201.pdf\u001b[0m\n",
      "\u001b[94mℹ️ INFO: found - https://www.federalreserve.gov/monetarypolicy/files/FOMC20170201meeting.pdf\u001b[0m\n",
      "\u001b[94mℹ️ INFO: found - https://www.federalreserve.gov/monetarypolicy/files/FOMC20170201material.pdf\u001b[0m\n",
      "\u001b[94mℹ️ INFO: found - https://www.federalreserve.gov/monetarypolicy/files/Beigebook_20170301.pdf\u001b[0m\n",
      "\u001b[94mℹ️ INFO: found - https://www.federalreserve.gov/monetarypolicy/files/FOMC20170315tealbooka20170303.pdf\u001b[0m\n",
      "\u001b[94mℹ️ INFO: found - https://www.federalreserve.gov/monetarypolicy/files/FOMC20170315tealbookb20170309.pdf\u001b[0m\n",
      "\u001b[94mℹ️ INFO: found - https://www.federalreserve.gov/monetarypolicy/files/FOMC20170315Agenda.pdf\u001b[0m\n",
      "\u001b[94mℹ️ INFO: found - https://www.federalreserve.gov/monetarypolicy/files/fomcminutes20170315.pdf\u001b[0m\n",
      "\u001b[94mℹ️ INFO: found - https://www.federalreserve.gov/monetarypolicy/files/FOMC20170315SEPcompilation.pdf\u001b[0m\n",
      "\u001b[94mℹ️ INFO: found - https://www.federalreserve.gov/monetarypolicy/files/FOMC20170315SEPkey.pdf\u001b[0m\n",
      "\u001b[94mℹ️ INFO: found - https://www.federalreserve.gov/monetarypolicy/files/FOMC20170315meeting.pdf\u001b[0m\n",
      "\u001b[94mℹ️ INFO: found - https://www.federalreserve.gov/monetarypolicy/files/FOMC20170315material.pdf\u001b[0m\n",
      "\u001b[94mℹ️ INFO: found - https://www.federalreserve.gov/monetarypolicy/files/Beigebook_20170419.pdf\u001b[0m\n",
      "\u001b[94mℹ️ INFO: found - https://www.federalreserve.gov/monetarypolicy/files/FOMC20170503tealbooka20170421.pdf\u001b[0m\n",
      "\u001b[94mℹ️ INFO: found - https://www.federalreserve.gov/monetarypolicy/files/FOMC20170503tealbookb20170427.pdf\u001b[0m\n",
      "\u001b[94mℹ️ INFO: found - https://www.federalreserve.gov/monetarypolicy/files/FOMC20170503Agenda.pdf\u001b[0m\n",
      "\u001b[94mℹ️ INFO: found - https://www.federalreserve.gov/monetarypolicy/files/fomcminutes20170503.pdf\u001b[0m\n",
      "\u001b[94mℹ️ INFO: found - https://www.federalreserve.gov/monetarypolicy/files/FOMC20170503meeting.pdf\u001b[0m\n",
      "\u001b[94mℹ️ INFO: found - https://www.federalreserve.gov/monetarypolicy/files/FOMC20170503material.pdf\u001b[0m\n",
      "\u001b[94mℹ️ INFO: found - https://www.federalreserve.gov/monetarypolicy/files/BeigeBook_20170531.pdf\u001b[0m\n",
      "\u001b[94mℹ️ INFO: found - https://www.federalreserve.gov/monetarypolicy/files/FOMC20170614tealbooka20170605.pdf\u001b[0m\n",
      "\u001b[94mℹ️ INFO: found - https://www.federalreserve.gov/monetarypolicy/files/FOMC20170614tealbookb20170608.pdf\u001b[0m\n",
      "\u001b[94mℹ️ INFO: found - https://www.federalreserve.gov/monetarypolicy/files/FOMC20170614Agenda.pdf\u001b[0m\n",
      "\u001b[94mℹ️ INFO: found - https://www.federalreserve.gov/monetarypolicy/files/fomcminutes20170614.pdf\u001b[0m\n",
      "\u001b[94mℹ️ INFO: found - https://www.federalreserve.gov/monetarypolicy/files/FOMC20170614SEPcompilation.pdf\u001b[0m\n",
      "\u001b[94mℹ️ INFO: found - https://www.federalreserve.gov/monetarypolicy/files/FOMC20170614SEPkey.pdf\u001b[0m\n",
      "\u001b[94mℹ️ INFO: found - https://www.federalreserve.gov/monetarypolicy/files/FOMC20170614meeting.pdf\u001b[0m\n",
      "\u001b[94mℹ️ INFO: found - https://www.federalreserve.gov/monetarypolicy/files/FOMC20170614material.pdf\u001b[0m\n",
      "\u001b[94mℹ️ INFO: found - https://www.federalreserve.gov/monetarypolicy/files/BeigeBook_20170712.pdf\u001b[0m\n",
      "\u001b[94mℹ️ INFO: found - https://www.federalreserve.gov/monetarypolicy/files/FOMC20170726tealbooka20170714.pdf\u001b[0m\n",
      "\u001b[94mℹ️ INFO: found - https://www.federalreserve.gov/monetarypolicy/files/FOMC20170726tealbookb20170720.pdf\u001b[0m\n",
      "\u001b[94mℹ️ INFO: found - https://www.federalreserve.gov/monetarypolicy/files/FOMC20170726Agenda.pdf\u001b[0m\n",
      "\u001b[94mℹ️ INFO: found - https://www.federalreserve.gov/monetarypolicy/files/fomcminutes20170726.pdf\u001b[0m\n",
      "\u001b[94mℹ️ INFO: found - https://www.federalreserve.gov/monetarypolicy/files/FOMC20170726meeting.pdf\u001b[0m\n",
      "\u001b[94mℹ️ INFO: found - https://www.federalreserve.gov/monetarypolicy/files/FOMC20170726material.pdf\u001b[0m\n",
      "\u001b[94mℹ️ INFO: found - https://www.federalreserve.gov/monetarypolicy/files/Beigebook_20170906.pdf\u001b[0m\n",
      "\u001b[94mℹ️ INFO: found - https://www.federalreserve.gov/monetarypolicy/files/FOMC20170920tealbooka20170908.pdf\u001b[0m\n",
      "\u001b[94mℹ️ INFO: found - https://www.federalreserve.gov/monetarypolicy/files/FOMC20170920tealbookb20170914.pdf\u001b[0m\n",
      "\u001b[94mℹ️ INFO: found - https://www.federalreserve.gov/monetarypolicy/files/FOMC20170920Agenda.pdf\u001b[0m\n",
      "\u001b[94mℹ️ INFO: found - https://www.federalreserve.gov/monetarypolicy/files/fomcminutes20170920.pdf\u001b[0m\n",
      "\u001b[94mℹ️ INFO: found - https://www.federalreserve.gov/monetarypolicy/files/FOMC20170920SEPcompilation.pdf\u001b[0m\n",
      "\u001b[94mℹ️ INFO: found - https://www.federalreserve.gov/monetarypolicy/files/FOMC20170920SEPkey.pdf\u001b[0m\n",
      "\u001b[94mℹ️ INFO: found - https://www.federalreserve.gov/monetarypolicy/files/FOMC20170920meeting.pdf\u001b[0m\n",
      "\u001b[94mℹ️ INFO: found - https://www.federalreserve.gov/monetarypolicy/files/FOMC20170920material.pdf\u001b[0m\n",
      "\u001b[94mℹ️ INFO: found - https://www.federalreserve.gov/monetarypolicy/files/BeigeBook_20171018.pdf\u001b[0m\n",
      "\u001b[94mℹ️ INFO: found - https://www.federalreserve.gov/monetarypolicy/files/FOMC20171101tealbooka20171020.pdf\u001b[0m\n",
      "\u001b[94mℹ️ INFO: found - https://www.federalreserve.gov/monetarypolicy/files/FOMC20171101tealbookb20171026.pdf\u001b[0m\n",
      "\u001b[94mℹ️ INFO: found - https://www.federalreserve.gov/monetarypolicy/files/FOMC20171101Agenda.pdf\u001b[0m\n",
      "\u001b[94mℹ️ INFO: found - https://www.federalreserve.gov/monetarypolicy/files/fomcminutes20171101.pdf\u001b[0m\n",
      "\u001b[94mℹ️ INFO: found - https://www.federalreserve.gov/monetarypolicy/files/FOMC20171101meeting.pdf\u001b[0m\n",
      "\u001b[94mℹ️ INFO: found - https://www.federalreserve.gov/monetarypolicy/files/FOMC20171101material.pdf\u001b[0m\n",
      "\u001b[94mℹ️ INFO: found - https://www.federalreserve.gov/monetarypolicy/files/BeigeBook_20171129.pdf\u001b[0m\n",
      "\u001b[94mℹ️ INFO: found - https://www.federalreserve.gov/monetarypolicy/files/FOMC20171213tealbooka20171201.pdf\u001b[0m\n",
      "\u001b[94mℹ️ INFO: found - https://www.federalreserve.gov/monetarypolicy/files/FOMC20171213tealbookb20171207.pdf\u001b[0m\n",
      "\u001b[94mℹ️ INFO: found - https://www.federalreserve.gov/monetarypolicy/files/FOMC20171213Agenda.pdf\u001b[0m\n",
      "\u001b[94mℹ️ INFO: found - https://www.federalreserve.gov/monetarypolicy/files/fomcminutes20171213.pdf\u001b[0m\n",
      "\u001b[94mℹ️ INFO: found - https://www.federalreserve.gov/monetarypolicy/files/FOMC20171213SEPcompilation.pdf\u001b[0m\n",
      "\u001b[94mℹ️ INFO: found - https://www.federalreserve.gov/monetarypolicy/files/FOMC20171213SEPkey.pdf\u001b[0m\n",
      "\u001b[94mℹ️ INFO: found - https://www.federalreserve.gov/monetarypolicy/files/FOMC20171213meeting.pdf\u001b[0m\n",
      "\u001b[94mℹ️ INFO: found - https://www.federalreserve.gov/monetarypolicy/files/FOMC20171213material.pdf\u001b[0m\n"
     ]
    },
    {
     "name": "stderr",
     "output_type": "stream",
     "text": [
      "\n"
     ]
    },
    {
     "name": "stdout",
     "output_type": "stream",
     "text": [
      "\u001b[94mℹ️ INFO: written - ./fed/Beigebook_20170118.pdf\u001b[0m\n",
      "\u001b[94mℹ️ INFO: written - ./fed/FOMC20170201tealbooka20170123.pdf\u001b[0m\n",
      "\u001b[94mℹ️ INFO: written - ./fed/FOMC20170201tealbookb20170126.pdf\u001b[0m\n",
      "\u001b[94mℹ️ INFO: written - ./fed/FOMC20170201Agenda.pdf\u001b[0m\n",
      "\u001b[94mℹ️ INFO: written - ./fed/FOMC_LongerRunGoals_201701.pdf\u001b[0m\n",
      "\u001b[94mℹ️ INFO: written - ./fed/fomcminutes20170201.pdf\u001b[0m\n",
      "\u001b[94mℹ️ INFO: written - ./fed/FOMC20170201meeting.pdf\u001b[0m\n",
      "\u001b[94mℹ️ INFO: written - ./fed/FOMC20170201material.pdf\u001b[0m\n",
      "\u001b[94mℹ️ INFO: written - ./fed/Beigebook_20170301.pdf\u001b[0m\n",
      "\u001b[94mℹ️ INFO: written - ./fed/FOMC20170315tealbooka20170303.pdf\u001b[0m\n",
      "\u001b[94mℹ️ INFO: written - ./fed/FOMC20170315tealbookb20170309.pdf\u001b[0m\n",
      "\u001b[94mℹ️ INFO: written - ./fed/FOMC20170315Agenda.pdf\u001b[0m\n",
      "\u001b[94mℹ️ INFO: written - ./fed/fomcminutes20170315.pdf\u001b[0m\n",
      "\u001b[94mℹ️ INFO: written - ./fed/FOMC20170315SEPcompilation.pdf\u001b[0m\n",
      "\u001b[94mℹ️ INFO: written - ./fed/FOMC20170315SEPkey.pdf\u001b[0m\n",
      "\u001b[94mℹ️ INFO: written - ./fed/FOMC20170315meeting.pdf\u001b[0m\n",
      "\u001b[94mℹ️ INFO: written - ./fed/FOMC20170315material.pdf\u001b[0m\n",
      "\u001b[94mℹ️ INFO: written - ./fed/Beigebook_20170419.pdf\u001b[0m\n",
      "\u001b[94mℹ️ INFO: written - ./fed/FOMC20170503tealbooka20170421.pdf\u001b[0m\n",
      "\u001b[94mℹ️ INFO: written - ./fed/FOMC20170503tealbookb20170427.pdf\u001b[0m\n",
      "\u001b[94mℹ️ INFO: written - ./fed/FOMC20170503Agenda.pdf\u001b[0m\n",
      "\u001b[94mℹ️ INFO: written - ./fed/fomcminutes20170503.pdf\u001b[0m\n",
      "\u001b[94mℹ️ INFO: written - ./fed/FOMC20170503meeting.pdf\u001b[0m\n",
      "\u001b[94mℹ️ INFO: written - ./fed/FOMC20170503material.pdf\u001b[0m\n",
      "\u001b[94mℹ️ INFO: written - ./fed/BeigeBook_20170531.pdf\u001b[0m\n",
      "\u001b[94mℹ️ INFO: written - ./fed/FOMC20170614tealbooka20170605.pdf\u001b[0m\n",
      "\u001b[94mℹ️ INFO: written - ./fed/FOMC20170614tealbookb20170608.pdf\u001b[0m\n",
      "\u001b[94mℹ️ INFO: written - ./fed/FOMC20170614Agenda.pdf\u001b[0m\n",
      "\u001b[94mℹ️ INFO: written - ./fed/fomcminutes20170614.pdf\u001b[0m\n",
      "\u001b[94mℹ️ INFO: written - ./fed/FOMC20170614SEPcompilation.pdf\u001b[0m\n",
      "\u001b[94mℹ️ INFO: written - ./fed/FOMC20170614SEPkey.pdf\u001b[0m\n",
      "\u001b[94mℹ️ INFO: written - ./fed/FOMC20170614meeting.pdf\u001b[0m\n",
      "\u001b[94mℹ️ INFO: written - ./fed/FOMC20170614material.pdf\u001b[0m\n",
      "\u001b[94mℹ️ INFO: written - ./fed/BeigeBook_20170712.pdf\u001b[0m\n",
      "\u001b[94mℹ️ INFO: written - ./fed/FOMC20170726tealbooka20170714.pdf\u001b[0m\n",
      "\u001b[94mℹ️ INFO: written - ./fed/FOMC20170726tealbookb20170720.pdf\u001b[0m\n",
      "\u001b[94mℹ️ INFO: written - ./fed/FOMC20170726Agenda.pdf\u001b[0m\n",
      "\u001b[94mℹ️ INFO: written - ./fed/fomcminutes20170726.pdf\u001b[0m\n",
      "\u001b[94mℹ️ INFO: written - ./fed/FOMC20170726meeting.pdf\u001b[0m\n",
      "\u001b[94mℹ️ INFO: written - ./fed/FOMC20170726material.pdf\u001b[0m\n",
      "\u001b[94mℹ️ INFO: written - ./fed/Beigebook_20170906.pdf\u001b[0m\n",
      "\u001b[94mℹ️ INFO: written - ./fed/FOMC20170920tealbooka20170908.pdf\u001b[0m\n"
     ]
    }
   ],
   "source": [
    "# recursive mode with three filetypes, and whole directory deletion\n",
    "from swan.copier import Copier\n",
    "from swan.receipts import Receipts\n",
    "\n",
    "copy = Copier(url='https://www.federalreserve.gov/monetarypolicy/fomchistorical2017.htm', recurse=True)\n",
    "data=[]\n",
    "files = copy.download('./fed', types=['csv','xml','pdf'])[0]\n",
    "for file in files:\n",
    "    data.append({\"file\":file, \"path\":f'{copy.path}/{file.split(\"/\")[-1]}'})\n",
    "receipts = Receipts('./fed.csv', data=data)\n",
    "receipts.create(False)\n",
    "receipts.write(False)\n",
    "copy.destroy(confirm='fed')\n",
    "receipts.destroy(confirm=\"fed.csv\")"
   ]
  },
  {
   "cell_type": "code",
   "execution_count": null,
   "id": "03428f57-8b54-430b-95dc-1ecde4f1fdde",
   "metadata": {},
   "outputs": [
    {
     "name": "stdout",
     "output_type": "stream",
     "text": [
      "hello there\n"
     ]
    }
   ],
   "source": [
    "from swan.supplies import Custom\n",
    "data = 'hello there'\n",
    "SECSifter = Custom(copy=data)\n",
    "\n",
    "# example custom anonymous function\n",
    "SECSifter.sift = lambda _: '' if _.startswith('linkbase:') else _\n",
    "\n",
    "sifted = SECSifter.sift(data)\n",
    "print(sifted)"
   ]
  },
  {
   "cell_type": "code",
   "execution_count": null,
   "id": "8d9a567f",
   "metadata": {},
   "outputs": [
    {
     "name": "stdout",
     "output_type": "stream",
     "text": [
      "hello there\n",
      "KEY: hello there\n",
      "\n"
     ]
    }
   ],
   "source": [
    "data = '<html>hello there</html>'\n",
    "from swan.supplies import Broom\n",
    "clean = Broom(copy=data).sweep()\n",
    "print(clean)\n",
    "xml = '<KEY>hello there</KEY>'\n",
    "clean = Broom(copy=xml).sweep(xml=True)\n",
    "print(clean)"
   ]
  },
  {
   "cell_type": "code",
   "execution_count": null,
   "id": "54ae2f78",
   "metadata": {},
   "outputs": [
    {
     "name": "stdout",
     "output_type": "stream",
     "text": [
      "\u001b[94mℹ️ INFO: written - ./fed_processed.txt\u001b[0m\n"
     ]
    }
   ],
   "source": [
    "from swan.janitor import Janitor\n",
    "worker = Janitor(path='./fed.txt', o='./fed_processed.txt')\n",
    "worker.process()"
   ]
  },
  {
   "cell_type": "code",
   "execution_count": null,
   "id": "5cee67ed",
   "metadata": {},
   "outputs": [],
   "source": []
  },
  {
   "cell_type": "code",
   "execution_count": null,
   "id": "78d34e70",
   "metadata": {},
   "outputs": [],
   "source": []
  }
 ],
 "metadata": {
  "kernelspec": {
   "display_name": "Python 3 (ipykernel)",
   "language": "python",
   "name": "python3"
  },
  "language_info": {
   "codemirror_mode": {
    "name": "ipython",
    "version": 3
   },
   "file_extension": ".py",
   "mimetype": "text/x-python",
   "name": "python",
   "nbconvert_exporter": "python",
   "pygments_lexer": "ipython3",
   "version": "3.11.5"
  }
 },
 "nbformat": 4,
 "nbformat_minor": 5
}
