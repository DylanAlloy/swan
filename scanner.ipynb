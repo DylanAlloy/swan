{
 "cells": [
  {
   "cell_type": "code",
   "execution_count": 1,
   "id": "713e5975-ef92-434a-a96a-7027e2aa3c2f",
   "metadata": {},
   "outputs": [
    {
     "name": "stdout",
     "output_type": "stream",
     "text": [
      "\u001b[94mℹ️ INFO: written - ./fed.txt\u001b[0m\n",
      "\u001b[93m🚨 WARN: path not found\u001b[0m\n",
      "\u001b[96m☕️ WAIT: no header set - attempting `.keys()`\u001b[0m\n",
      "\u001b[92m🌊 SUCCESS: headers detected as ['file', 'path'] from `.keys()`\u001b[0m\n",
      "\u001b[94mℹ️ INFO: [file, path, ts] header used\u001b[0m\n",
      "\u001b[94mℹ️ INFO: created ./fed.csv\u001b[0m\n",
      "\u001b[94mℹ️ INFO: timestamped - 2023-09-01 20:35:15.605862\u001b[0m\n",
      "\u001b[92m🌊 SUCCESS: 1 written to ./fed.csv\u001b[0m\n"
     ]
    }
   ],
   "source": [
    "# single file & receipt creation, then deletion\n",
    "from swan.copier import Copier\n",
    "from swan.receipts import Receipts\n",
    "data = []\n",
    "copy = Copier(url='https://www.federalreserve.gov/monetarypolicy/fomchistorical2017.htm')\n",
    "if copy.download('./fed.txt'):\n",
    "    data.append({\"file\":copy.url, \"path\":f'{copy.path}'})\n",
    "receipts = Receipts(path='./fed.csv', data=data)\n",
    "receipts.create(True)\n",
    "receipts.write(False)\n",
    "# copy.destroy(confirm=copy.path.split('/')[-1])\n",
    "# receipts.destroy(confirm=receipts.path.split('/')[-1])"
   ]
  },
  {
   "cell_type": "code",
   "execution_count": 2,
   "id": "bc3ca664",
   "metadata": {},
   "outputs": [
    {
     "name": "stdout",
     "output_type": "stream",
     "text": [
      "\u001b[94mℹ️ INFO: found monetarypolicy in data\u001b[0m\n",
      "\u001b[94mℹ️ INFO: found 2023-08-31 in data\u001b[0m\n",
      "{'file': 'https://www.federalreserve.gov/monetarypolicy/fomchistorical2017.htm', 'path': './fed.txt', 'ts': '2023-09-01 20:35:15.605862'}\n",
      "[{'file': 'https://www.federalreserve.gov/monetarypolicy/fomchistorical2017.htm', 'path': './fed.txt', 'ts': '2023-09-01 20:35:15.605862'}]\n",
      "[]\n"
     ]
    }
   ],
   "source": [
    "integer = receipts.seek(line=0)\n",
    "string = receipts.seek(line='monetarypolicy')\n",
    "by_date = receipts.seek(line='2023-08-31')\n",
    "print(integer)\n",
    "print(string)\n",
    "print(by_date)"
   ]
  },
  {
   "cell_type": "code",
   "execution_count": 3,
   "id": "b70be8dc-9224-4c8e-bbf5-5f5d89c43546",
   "metadata": {},
   "outputs": [
    {
     "name": "stdout",
     "output_type": "stream",
     "text": [
      "\u001b[96m☕️ WAIT: processing https://www.federalreserve.gov/monetarypolicy/fomchistorical2017.htm\u001b[0m\n"
     ]
    },
    {
     "name": "stderr",
     "output_type": "stream",
     "text": [
      "100%|██████████| 326/326 [00:00<00:00, 169793.01it/s]"
     ]
    },
    {
     "name": "stdout",
     "output_type": "stream",
     "text": [
      "\u001b[94mℹ️ INFO: found - https://www.federalreserve.gov/monetarypolicy/beigebook/files/Beigebook_20170118.pdf\u001b[0m\n",
      "\u001b[94mℹ️ INFO: found - https://www.federalreserve.gov/monetarypolicy/files/FOMC20170201tealbooka20170123.pdf\u001b[0m\n",
      "\u001b[94mℹ️ INFO: found - https://www.federalreserve.gov/monetarypolicy/files/FOMC20170201tealbookb20170126.pdf\u001b[0m\n",
      "\u001b[94mℹ️ INFO: found - https://www.federalreserve.gov/monetarypolicy/files/FOMC20170201Agenda.pdf\u001b[0m\n",
      "\u001b[94mℹ️ INFO: found - https://www.federalreserve.gov/monetarypolicy/files/FOMC_LongerRunGoals_201701.pdf\u001b[0m\n",
      "\u001b[94mℹ️ INFO: found - https://www.federalreserve.gov/monetarypolicy/files/fomcminutes20170201.pdf\u001b[0m\n",
      "\u001b[94mℹ️ INFO: found - https://www.federalreserve.gov/monetarypolicy/files/FOMC20170201meeting.pdf\u001b[0m\n",
      "\u001b[94mℹ️ INFO: found - https://www.federalreserve.gov/monetarypolicy/files/FOMC20170201material.pdf\u001b[0m\n",
      "\u001b[94mℹ️ INFO: found - https://www.federalreserve.gov/monetarypolicy/files/Beigebook_20170301.pdf\u001b[0m\n",
      "\u001b[94mℹ️ INFO: found - https://www.federalreserve.gov/monetarypolicy/files/FOMC20170315tealbooka20170303.pdf\u001b[0m\n",
      "\u001b[94mℹ️ INFO: found - https://www.federalreserve.gov/monetarypolicy/files/FOMC20170315tealbookb20170309.pdf\u001b[0m\n",
      "\u001b[94mℹ️ INFO: found - https://www.federalreserve.gov/monetarypolicy/files/FOMC20170315Agenda.pdf\u001b[0m\n",
      "\u001b[94mℹ️ INFO: found - https://www.federalreserve.gov/monetarypolicy/files/fomcminutes20170315.pdf\u001b[0m\n",
      "\u001b[94mℹ️ INFO: found - https://www.federalreserve.gov/monetarypolicy/files/FOMC20170315SEPcompilation.pdf\u001b[0m\n",
      "\u001b[94mℹ️ INFO: found - https://www.federalreserve.gov/monetarypolicy/files/FOMC20170315SEPkey.pdf\u001b[0m\n",
      "\u001b[94mℹ️ INFO: found - https://www.federalreserve.gov/monetarypolicy/files/FOMC20170315meeting.pdf\u001b[0m\n",
      "\u001b[94mℹ️ INFO: found - https://www.federalreserve.gov/monetarypolicy/files/FOMC20170315material.pdf\u001b[0m\n",
      "\u001b[94mℹ️ INFO: found - https://www.federalreserve.gov/monetarypolicy/files/Beigebook_20170419.pdf\u001b[0m\n",
      "\u001b[94mℹ️ INFO: found - https://www.federalreserve.gov/monetarypolicy/files/FOMC20170503tealbooka20170421.pdf\u001b[0m\n",
      "\u001b[94mℹ️ INFO: found - https://www.federalreserve.gov/monetarypolicy/files/FOMC20170503tealbookb20170427.pdf\u001b[0m\n",
      "\u001b[94mℹ️ INFO: found - https://www.federalreserve.gov/monetarypolicy/files/FOMC20170503Agenda.pdf\u001b[0m\n",
      "\u001b[94mℹ️ INFO: found - https://www.federalreserve.gov/monetarypolicy/files/fomcminutes20170503.pdf\u001b[0m\n",
      "\u001b[94mℹ️ INFO: found - https://www.federalreserve.gov/monetarypolicy/files/FOMC20170503meeting.pdf\u001b[0m\n",
      "\u001b[94mℹ️ INFO: found - https://www.federalreserve.gov/monetarypolicy/files/FOMC20170503material.pdf\u001b[0m\n",
      "\u001b[94mℹ️ INFO: found - https://www.federalreserve.gov/monetarypolicy/files/BeigeBook_20170531.pdf\u001b[0m\n",
      "\u001b[94mℹ️ INFO: found - https://www.federalreserve.gov/monetarypolicy/files/FOMC20170614tealbooka20170605.pdf\u001b[0m\n",
      "\u001b[94mℹ️ INFO: found - https://www.federalreserve.gov/monetarypolicy/files/FOMC20170614tealbookb20170608.pdf\u001b[0m\n",
      "\u001b[94mℹ️ INFO: found - https://www.federalreserve.gov/monetarypolicy/files/FOMC20170614Agenda.pdf\u001b[0m\n",
      "\u001b[94mℹ️ INFO: found - https://www.federalreserve.gov/monetarypolicy/files/fomcminutes20170614.pdf\u001b[0m\n",
      "\u001b[94mℹ️ INFO: found - https://www.federalreserve.gov/monetarypolicy/files/FOMC20170614SEPcompilation.pdf\u001b[0m\n",
      "\u001b[94mℹ️ INFO: found - https://www.federalreserve.gov/monetarypolicy/files/FOMC20170614SEPkey.pdf\u001b[0m\n",
      "\u001b[94mℹ️ INFO: found - https://www.federalreserve.gov/monetarypolicy/files/FOMC20170614meeting.pdf\u001b[0m\n",
      "\u001b[94mℹ️ INFO: found - https://www.federalreserve.gov/monetarypolicy/files/FOMC20170614material.pdf\u001b[0m\n",
      "\u001b[94mℹ️ INFO: found - https://www.federalreserve.gov/monetarypolicy/files/BeigeBook_20170712.pdf\u001b[0m\n",
      "\u001b[94mℹ️ INFO: found - https://www.federalreserve.gov/monetarypolicy/files/FOMC20170726tealbooka20170714.pdf\u001b[0m\n",
      "\u001b[94mℹ️ INFO: found - https://www.federalreserve.gov/monetarypolicy/files/FOMC20170726tealbookb20170720.pdf\u001b[0m\n",
      "\u001b[94mℹ️ INFO: found - https://www.federalreserve.gov/monetarypolicy/files/FOMC20170726Agenda.pdf\u001b[0m\n",
      "\u001b[94mℹ️ INFO: found - https://www.federalreserve.gov/monetarypolicy/files/fomcminutes20170726.pdf\u001b[0m\n",
      "\u001b[94mℹ️ INFO: found - https://www.federalreserve.gov/monetarypolicy/files/FOMC20170726meeting.pdf\u001b[0m\n",
      "\u001b[94mℹ️ INFO: found - https://www.federalreserve.gov/monetarypolicy/files/FOMC20170726material.pdf\u001b[0m\n",
      "\u001b[94mℹ️ INFO: found - https://www.federalreserve.gov/monetarypolicy/files/Beigebook_20170906.pdf\u001b[0m\n",
      "\u001b[94mℹ️ INFO: found - https://www.federalreserve.gov/monetarypolicy/files/FOMC20170920tealbooka20170908.pdf\u001b[0m\n",
      "\u001b[94mℹ️ INFO: found - https://www.federalreserve.gov/monetarypolicy/files/FOMC20170920tealbookb20170914.pdf\u001b[0m\n",
      "\u001b[94mℹ️ INFO: found - https://www.federalreserve.gov/monetarypolicy/files/FOMC20170920Agenda.pdf\u001b[0m\n",
      "\u001b[94mℹ️ INFO: found - https://www.federalreserve.gov/monetarypolicy/files/fomcminutes20170920.pdf\u001b[0m\n",
      "\u001b[94mℹ️ INFO: found - https://www.federalreserve.gov/monetarypolicy/files/FOMC20170920SEPcompilation.pdf\u001b[0m\n",
      "\u001b[94mℹ️ INFO: found - https://www.federalreserve.gov/monetarypolicy/files/FOMC20170920SEPkey.pdf\u001b[0m\n",
      "\u001b[94mℹ️ INFO: found - https://www.federalreserve.gov/monetarypolicy/files/FOMC20170920meeting.pdf\u001b[0m\n",
      "\u001b[94mℹ️ INFO: found - https://www.federalreserve.gov/monetarypolicy/files/FOMC20170920material.pdf\u001b[0m\n",
      "\u001b[94mℹ️ INFO: found - https://www.federalreserve.gov/monetarypolicy/files/BeigeBook_20171018.pdf\u001b[0m\n",
      "\u001b[94mℹ️ INFO: found - https://www.federalreserve.gov/monetarypolicy/files/FOMC20171101tealbooka20171020.pdf\u001b[0m\n",
      "\u001b[94mℹ️ INFO: found - https://www.federalreserve.gov/monetarypolicy/files/FOMC20171101tealbookb20171026.pdf\u001b[0m\n",
      "\u001b[94mℹ️ INFO: found - https://www.federalreserve.gov/monetarypolicy/files/FOMC20171101Agenda.pdf\u001b[0m\n",
      "\u001b[94mℹ️ INFO: found - https://www.federalreserve.gov/monetarypolicy/files/fomcminutes20171101.pdf\u001b[0m\n",
      "\u001b[94mℹ️ INFO: found - https://www.federalreserve.gov/monetarypolicy/files/FOMC20171101meeting.pdf\u001b[0m\n",
      "\u001b[94mℹ️ INFO: found - https://www.federalreserve.gov/monetarypolicy/files/FOMC20171101material.pdf\u001b[0m\n",
      "\u001b[94mℹ️ INFO: found - https://www.federalreserve.gov/monetarypolicy/files/BeigeBook_20171129.pdf\u001b[0m\n",
      "\u001b[94mℹ️ INFO: found - https://www.federalreserve.gov/monetarypolicy/files/FOMC20171213tealbooka20171201.pdf\u001b[0m\n",
      "\u001b[94mℹ️ INFO: found - https://www.federalreserve.gov/monetarypolicy/files/FOMC20171213tealbookb20171207.pdf\u001b[0m\n",
      "\u001b[94mℹ️ INFO: found - https://www.federalreserve.gov/monetarypolicy/files/FOMC20171213Agenda.pdf\u001b[0m\n",
      "\u001b[94mℹ️ INFO: found - https://www.federalreserve.gov/monetarypolicy/files/fomcminutes20171213.pdf\u001b[0m\n",
      "\u001b[94mℹ️ INFO: found - https://www.federalreserve.gov/monetarypolicy/files/FOMC20171213SEPcompilation.pdf\u001b[0m\n",
      "\u001b[94mℹ️ INFO: found - https://www.federalreserve.gov/monetarypolicy/files/FOMC20171213SEPkey.pdf\u001b[0m\n",
      "\u001b[94mℹ️ INFO: found - https://www.federalreserve.gov/monetarypolicy/files/FOMC20171213meeting.pdf\u001b[0m\n",
      "\u001b[94mℹ️ INFO: found - https://www.federalreserve.gov/monetarypolicy/files/FOMC20171213material.pdf\u001b[0m\n"
     ]
    },
    {
     "name": "stderr",
     "output_type": "stream",
     "text": [
      "\n"
     ]
    },
    {
     "name": "stdout",
     "output_type": "stream",
     "text": [
      "\u001b[94mℹ️ INFO: written - ./fed/Beigebook_20170118.pdf\u001b[0m\n",
      "\u001b[94mℹ️ INFO: written - ./fed/FOMC20170201tealbooka20170123.pdf\u001b[0m\n",
      "\u001b[94mℹ️ INFO: written - ./fed/FOMC20170201tealbookb20170126.pdf\u001b[0m\n",
      "\u001b[94mℹ️ INFO: written - ./fed/FOMC20170201Agenda.pdf\u001b[0m\n",
      "\u001b[94mℹ️ INFO: written - ./fed/FOMC_LongerRunGoals_201701.pdf\u001b[0m\n",
      "\u001b[94mℹ️ INFO: written - ./fed/fomcminutes20170201.pdf\u001b[0m\n",
      "\u001b[94mℹ️ INFO: written - ./fed/FOMC20170201meeting.pdf\u001b[0m\n",
      "\u001b[94mℹ️ INFO: written - ./fed/FOMC20170201material.pdf\u001b[0m\n",
      "\u001b[94mℹ️ INFO: written - ./fed/Beigebook_20170301.pdf\u001b[0m\n",
      "\u001b[94mℹ️ INFO: written - ./fed/FOMC20170315tealbooka20170303.pdf\u001b[0m\n",
      "\u001b[94mℹ️ INFO: written - ./fed/FOMC20170315tealbookb20170309.pdf\u001b[0m\n",
      "\u001b[94mℹ️ INFO: written - ./fed/FOMC20170315Agenda.pdf\u001b[0m\n",
      "\u001b[94mℹ️ INFO: written - ./fed/fomcminutes20170315.pdf\u001b[0m\n",
      "\u001b[94mℹ️ INFO: written - ./fed/FOMC20170315SEPcompilation.pdf\u001b[0m\n",
      "\u001b[94mℹ️ INFO: written - ./fed/FOMC20170315SEPkey.pdf\u001b[0m\n",
      "\u001b[94mℹ️ INFO: written - ./fed/FOMC20170315meeting.pdf\u001b[0m\n",
      "\u001b[94mℹ️ INFO: written - ./fed/FOMC20170315material.pdf\u001b[0m\n",
      "\u001b[94mℹ️ INFO: written - ./fed/Beigebook_20170419.pdf\u001b[0m\n",
      "\u001b[94mℹ️ INFO: written - ./fed/FOMC20170503tealbooka20170421.pdf\u001b[0m\n",
      "\u001b[94mℹ️ INFO: written - ./fed/FOMC20170503tealbookb20170427.pdf\u001b[0m\n",
      "\u001b[94mℹ️ INFO: written - ./fed/FOMC20170503Agenda.pdf\u001b[0m\n",
      "\u001b[94mℹ️ INFO: written - ./fed/fomcminutes20170503.pdf\u001b[0m\n",
      "\u001b[94mℹ️ INFO: written - ./fed/FOMC20170503meeting.pdf\u001b[0m\n",
      "\u001b[94mℹ️ INFO: written - ./fed/FOMC20170503material.pdf\u001b[0m\n",
      "\u001b[94mℹ️ INFO: written - ./fed/BeigeBook_20170531.pdf\u001b[0m\n",
      "\u001b[94mℹ️ INFO: written - ./fed/FOMC20170614tealbooka20170605.pdf\u001b[0m\n",
      "\u001b[94mℹ️ INFO: written - ./fed/FOMC20170614tealbookb20170608.pdf\u001b[0m\n",
      "\u001b[94mℹ️ INFO: written - ./fed/FOMC20170614Agenda.pdf\u001b[0m\n",
      "\u001b[94mℹ️ INFO: written - ./fed/fomcminutes20170614.pdf\u001b[0m\n",
      "\u001b[94mℹ️ INFO: written - ./fed/FOMC20170614SEPcompilation.pdf\u001b[0m\n",
      "\u001b[94mℹ️ INFO: written - ./fed/FOMC20170614SEPkey.pdf\u001b[0m\n",
      "\u001b[94mℹ️ INFO: written - ./fed/FOMC20170614meeting.pdf\u001b[0m\n",
      "\u001b[94mℹ️ INFO: written - ./fed/FOMC20170614material.pdf\u001b[0m\n",
      "\u001b[94mℹ️ INFO: written - ./fed/BeigeBook_20170712.pdf\u001b[0m\n",
      "\u001b[94mℹ️ INFO: written - ./fed/FOMC20170726tealbooka20170714.pdf\u001b[0m\n",
      "\u001b[94mℹ️ INFO: written - ./fed/FOMC20170726tealbookb20170720.pdf\u001b[0m\n",
      "\u001b[94mℹ️ INFO: written - ./fed/FOMC20170726Agenda.pdf\u001b[0m\n",
      "\u001b[94mℹ️ INFO: written - ./fed/fomcminutes20170726.pdf\u001b[0m\n",
      "\u001b[94mℹ️ INFO: written - ./fed/FOMC20170726meeting.pdf\u001b[0m\n",
      "\u001b[94mℹ️ INFO: written - ./fed/FOMC20170726material.pdf\u001b[0m\n",
      "\u001b[94mℹ️ INFO: written - ./fed/Beigebook_20170906.pdf\u001b[0m\n",
      "\u001b[94mℹ️ INFO: written - ./fed/FOMC20170920tealbooka20170908.pdf\u001b[0m\n",
      "\u001b[94mℹ️ INFO: written - ./fed/FOMC20170920tealbookb20170914.pdf\u001b[0m\n",
      "\u001b[94mℹ️ INFO: written - ./fed/FOMC20170920Agenda.pdf\u001b[0m\n",
      "\u001b[94mℹ️ INFO: written - ./fed/fomcminutes20170920.pdf\u001b[0m\n",
      "\u001b[94mℹ️ INFO: written - ./fed/FOMC20170920SEPcompilation.pdf\u001b[0m\n",
      "\u001b[94mℹ️ INFO: written - ./fed/FOMC20170920SEPkey.pdf\u001b[0m\n",
      "\u001b[94mℹ️ INFO: written - ./fed/FOMC20170920meeting.pdf\u001b[0m\n",
      "\u001b[94mℹ️ INFO: written - ./fed/FOMC20170920material.pdf\u001b[0m\n",
      "\u001b[94mℹ️ INFO: written - ./fed/BeigeBook_20171018.pdf\u001b[0m\n",
      "\u001b[94mℹ️ INFO: written - ./fed/FOMC20171101tealbooka20171020.pdf\u001b[0m\n",
      "\u001b[94mℹ️ INFO: written - ./fed/FOMC20171101tealbookb20171026.pdf\u001b[0m\n",
      "\u001b[94mℹ️ INFO: written - ./fed/FOMC20171101Agenda.pdf\u001b[0m\n",
      "\u001b[94mℹ️ INFO: written - ./fed/fomcminutes20171101.pdf\u001b[0m\n",
      "\u001b[94mℹ️ INFO: written - ./fed/FOMC20171101meeting.pdf\u001b[0m\n",
      "\u001b[94mℹ️ INFO: written - ./fed/FOMC20171101material.pdf\u001b[0m\n",
      "\u001b[94mℹ️ INFO: written - ./fed/BeigeBook_20171129.pdf\u001b[0m\n",
      "\u001b[94mℹ️ INFO: written - ./fed/FOMC20171213tealbooka20171201.pdf\u001b[0m\n",
      "\u001b[94mℹ️ INFO: written - ./fed/FOMC20171213tealbookb20171207.pdf\u001b[0m\n",
      "\u001b[94mℹ️ INFO: written - ./fed/FOMC20171213Agenda.pdf\u001b[0m\n",
      "\u001b[94mℹ️ INFO: written - ./fed/fomcminutes20171213.pdf\u001b[0m\n",
      "\u001b[94mℹ️ INFO: written - ./fed/FOMC20171213SEPcompilation.pdf\u001b[0m\n",
      "\u001b[94mℹ️ INFO: written - ./fed/FOMC20171213SEPkey.pdf\u001b[0m\n",
      "\u001b[94mℹ️ INFO: written - ./fed/FOMC20171213meeting.pdf\u001b[0m\n",
      "\u001b[94mℹ️ INFO: written - ./fed/FOMC20171213material.pdf\u001b[0m\n",
      "\u001b[92m🌊 SUCCESS: 65 downloaded\u001b[0m\n",
      "\u001b[93m🚨 WARN: ./fed.csv exists\u001b[0m\n",
      "\u001b[96m☕️ WAIT: no header set - attempting `.keys()`\u001b[0m\n",
      "\u001b[92m🌊 SUCCESS: headers detected as ['file', 'path'] from `.keys()`\u001b[0m\n",
      "\u001b[94mℹ️ INFO: timestamped - 2023-09-01 20:35:36.379060\u001b[0m\n",
      "\u001b[94mℹ️ INFO: timestamped - 2023-09-01 20:35:36.379074\u001b[0m\n",
      "\u001b[94mℹ️ INFO: timestamped - 2023-09-01 20:35:36.379077\u001b[0m\n",
      "\u001b[94mℹ️ INFO: timestamped - 2023-09-01 20:35:36.379080\u001b[0m\n",
      "\u001b[94mℹ️ INFO: timestamped - 2023-09-01 20:35:36.379083\u001b[0m\n",
      "\u001b[94mℹ️ INFO: timestamped - 2023-09-01 20:35:36.379086\u001b[0m\n",
      "\u001b[94mℹ️ INFO: timestamped - 2023-09-01 20:35:36.379092\u001b[0m\n",
      "\u001b[94mℹ️ INFO: timestamped - 2023-09-01 20:35:36.379095\u001b[0m\n",
      "\u001b[94mℹ️ INFO: timestamped - 2023-09-01 20:35:36.379098\u001b[0m\n",
      "\u001b[94mℹ️ INFO: timestamped - 2023-09-01 20:35:36.379101\u001b[0m\n",
      "\u001b[94mℹ️ INFO: timestamped - 2023-09-01 20:35:36.379103\u001b[0m\n",
      "\u001b[94mℹ️ INFO: timestamped - 2023-09-01 20:35:36.379106\u001b[0m\n",
      "\u001b[94mℹ️ INFO: timestamped - 2023-09-01 20:35:36.379108\u001b[0m\n",
      "\u001b[94mℹ️ INFO: timestamped - 2023-09-01 20:35:36.379111\u001b[0m\n",
      "\u001b[94mℹ️ INFO: timestamped - 2023-09-01 20:35:36.379113\u001b[0m\n",
      "\u001b[94mℹ️ INFO: timestamped - 2023-09-01 20:35:36.379116\u001b[0m\n",
      "\u001b[94mℹ️ INFO: timestamped - 2023-09-01 20:35:36.379119\u001b[0m\n",
      "\u001b[94mℹ️ INFO: timestamped - 2023-09-01 20:35:36.379121\u001b[0m\n",
      "\u001b[94mℹ️ INFO: timestamped - 2023-09-01 20:35:36.379124\u001b[0m\n",
      "\u001b[94mℹ️ INFO: timestamped - 2023-09-01 20:35:36.379126\u001b[0m\n",
      "\u001b[94mℹ️ INFO: timestamped - 2023-09-01 20:35:36.379129\u001b[0m\n",
      "\u001b[94mℹ️ INFO: timestamped - 2023-09-01 20:35:36.379131\u001b[0m\n",
      "\u001b[94mℹ️ INFO: timestamped - 2023-09-01 20:35:36.379134\u001b[0m\n",
      "\u001b[94mℹ️ INFO: timestamped - 2023-09-01 20:35:36.379137\u001b[0m\n",
      "\u001b[94mℹ️ INFO: timestamped - 2023-09-01 20:35:36.379139\u001b[0m\n",
      "\u001b[94mℹ️ INFO: timestamped - 2023-09-01 20:35:36.379142\u001b[0m\n",
      "\u001b[94mℹ️ INFO: timestamped - 2023-09-01 20:35:36.379144\u001b[0m\n",
      "\u001b[94mℹ️ INFO: timestamped - 2023-09-01 20:35:36.379147\u001b[0m\n",
      "\u001b[94mℹ️ INFO: timestamped - 2023-09-01 20:35:36.379149\u001b[0m\n",
      "\u001b[94mℹ️ INFO: timestamped - 2023-09-01 20:35:36.379152\u001b[0m\n",
      "\u001b[94mℹ️ INFO: timestamped - 2023-09-01 20:35:36.379154\u001b[0m\n",
      "\u001b[94mℹ️ INFO: timestamped - 2023-09-01 20:35:36.379157\u001b[0m\n",
      "\u001b[94mℹ️ INFO: timestamped - 2023-09-01 20:35:36.379159\u001b[0m\n",
      "\u001b[94mℹ️ INFO: timestamped - 2023-09-01 20:35:36.379162\u001b[0m\n",
      "\u001b[94mℹ️ INFO: timestamped - 2023-09-01 20:35:36.379165\u001b[0m\n",
      "\u001b[94mℹ️ INFO: timestamped - 2023-09-01 20:35:36.379167\u001b[0m\n",
      "\u001b[94mℹ️ INFO: timestamped - 2023-09-01 20:35:36.379170\u001b[0m\n",
      "\u001b[94mℹ️ INFO: timestamped - 2023-09-01 20:35:36.379173\u001b[0m\n",
      "\u001b[94mℹ️ INFO: timestamped - 2023-09-01 20:35:36.379175\u001b[0m\n",
      "\u001b[94mℹ️ INFO: timestamped - 2023-09-01 20:35:36.379178\u001b[0m\n",
      "\u001b[94mℹ️ INFO: timestamped - 2023-09-01 20:35:36.379181\u001b[0m\n",
      "\u001b[94mℹ️ INFO: timestamped - 2023-09-01 20:35:36.379183\u001b[0m\n",
      "\u001b[94mℹ️ INFO: timestamped - 2023-09-01 20:35:36.379186\u001b[0m\n",
      "\u001b[94mℹ️ INFO: timestamped - 2023-09-01 20:35:36.379189\u001b[0m\n",
      "\u001b[94mℹ️ INFO: timestamped - 2023-09-01 20:35:36.379191\u001b[0m\n",
      "\u001b[94mℹ️ INFO: timestamped - 2023-09-01 20:35:36.379194\u001b[0m\n",
      "\u001b[94mℹ️ INFO: timestamped - 2023-09-01 20:35:36.379196\u001b[0m\n",
      "\u001b[94mℹ️ INFO: timestamped - 2023-09-01 20:35:36.379199\u001b[0m\n",
      "\u001b[94mℹ️ INFO: timestamped - 2023-09-01 20:35:36.379202\u001b[0m\n",
      "\u001b[94mℹ️ INFO: timestamped - 2023-09-01 20:35:36.379204\u001b[0m\n",
      "\u001b[94mℹ️ INFO: timestamped - 2023-09-01 20:35:36.379207\u001b[0m\n",
      "\u001b[94mℹ️ INFO: timestamped - 2023-09-01 20:35:36.379210\u001b[0m\n",
      "\u001b[94mℹ️ INFO: timestamped - 2023-09-01 20:35:36.379212\u001b[0m\n",
      "\u001b[94mℹ️ INFO: timestamped - 2023-09-01 20:35:36.379215\u001b[0m\n",
      "\u001b[94mℹ️ INFO: timestamped - 2023-09-01 20:35:36.379217\u001b[0m\n",
      "\u001b[94mℹ️ INFO: timestamped - 2023-09-01 20:35:36.379220\u001b[0m\n",
      "\u001b[94mℹ️ INFO: timestamped - 2023-09-01 20:35:36.379222\u001b[0m\n",
      "\u001b[94mℹ️ INFO: timestamped - 2023-09-01 20:35:36.379225\u001b[0m\n",
      "\u001b[94mℹ️ INFO: timestamped - 2023-09-01 20:35:36.379227\u001b[0m\n",
      "\u001b[94mℹ️ INFO: timestamped - 2023-09-01 20:35:36.379230\u001b[0m\n",
      "\u001b[94mℹ️ INFO: timestamped - 2023-09-01 20:35:36.379233\u001b[0m\n",
      "\u001b[94mℹ️ INFO: timestamped - 2023-09-01 20:35:36.379236\u001b[0m\n",
      "\u001b[94mℹ️ INFO: timestamped - 2023-09-01 20:35:36.379238\u001b[0m\n",
      "\u001b[94mℹ️ INFO: timestamped - 2023-09-01 20:35:36.379241\u001b[0m\n",
      "\u001b[94mℹ️ INFO: timestamped - 2023-09-01 20:35:36.379243\u001b[0m\n",
      "\u001b[92m🌊 SUCCESS: 65 written to ./fed.csv\u001b[0m\n",
      "\u001b[93m🚨 WARN: 65 destroyed from ./fed\u001b[0m\n",
      "\u001b[93m🚨 WARN: fed.csv destroyed from ./fed.csv\u001b[0m\n"
     ]
    }
   ],
   "source": [
    "# recursive mode with three filetypes, and whole directory deletion\n",
    "from swan.copier import Copier\n",
    "from swan.receipts import Receipts\n",
    "\n",
    "copy = Copier(url='https://www.federalreserve.gov/monetarypolicy/fomchistorical2017.htm', recurse=True)\n",
    "data=[]\n",
    "files = copy.download('./fed', types=['csv','xml','pdf'])[0]\n",
    "for file in files:\n",
    "    data.append({\"file\":file, \"path\":f'{copy.path}/{file.split(\"/\")[-1]}'})\n",
    "receipts = Receipts('./fed.csv', data=data)\n",
    "receipts.create(False)\n",
    "receipts.write(False)\n",
    "copy.destroy(confirm=copy.path.split('/')[-1])\n",
    "receipts.destroy(confirm=receipts.path.split('/')[-1])"
   ]
  },
  {
   "cell_type": "code",
   "execution_count": 4,
   "id": "03428f57-8b54-430b-95dc-1ecde4f1fdde",
   "metadata": {},
   "outputs": [
    {
     "name": "stdout",
     "output_type": "stream",
     "text": [
      "\n"
     ]
    }
   ],
   "source": [
    "from swan.supplies import Custom\n",
    "data = 'linkbase:hello there'\n",
    "SECSifter = Custom(copy=data)\n",
    "\n",
    "# example custom anonymous function\n",
    "SECSifter.sift = lambda _: '' if _.startswith('linkbase:') else _\n",
    "\n",
    "sifted = SECSifter.sift(data)\n",
    "print(sifted)"
   ]
  },
  {
   "cell_type": "code",
   "execution_count": 5,
   "id": "8d9a567f",
   "metadata": {},
   "outputs": [
    {
     "name": "stdout",
     "output_type": "stream",
     "text": [
      "hello there\n",
      "TITLE: hello there\n",
      "\n"
     ]
    }
   ],
   "source": [
    "data = '<html>hello there</html>'\n",
    "from swan.supplies import Broom\n",
    "clean = Broom(copy=data).sweep()\n",
    "print(clean)\n",
    "xml = '<TITLE>hello there</TITLE>'\n",
    "clean = Broom(copy=xml).sweep(xml=True)\n",
    "print(clean)"
   ]
  },
  {
   "cell_type": "code",
   "execution_count": 6,
   "id": "54ae2f78",
   "metadata": {},
   "outputs": [
    {
     "name": "stdout",
     "output_type": "stream",
     "text": [
      "\u001b[94mℹ️ INFO: written - ./fed_processed.txt\u001b[0m\n",
      "\u001b[93m🚨 WARN: fed_processed.txt destroyed from ./fed_processed.txt\u001b[0m\n"
     ]
    }
   ],
   "source": [
    "from swan.janitor import Janitor\n",
    "worker = Janitor(path='./fed.txt', o='./fed_processed.txt')\n",
    "worker.process()\n",
    "worker.destroy(confirm=worker.o.split('/')[-1])"
   ]
  },
  {
   "cell_type": "code",
   "execution_count": 7,
   "id": "5cee67ed",
   "metadata": {},
   "outputs": [
    {
     "data": {
      "image/png": "[encoded data removed]",
      "text/plain": [
       "<Figure size 1200x800 with 2 Axes>"
      ]
     },
     "metadata": {},
     "output_type": "display_data"
    }
   ],
   "source": [
    "from swan.teacher import SP\n",
    "\n",
    "copy = './fed.txt'\n",
    "save='./plot.png'\n",
    "\n",
    "p = SP(copy, save)\n",
    "p.generate(show=True)\n",
    "# p.destroy(confirm=p.save.split('/')[-1])"
   ]
  },
  {
   "cell_type": "code",
   "execution_count": 8,
   "id": "78d34e70",
   "metadata": {},
   "outputs": [
    {
     "name": "stdout",
     "output_type": "stream",
     "text": [
      "\u001b[92m🌊 SUCCESS: config loaded from - /Users/dylanmoore/VSCode/LLM/swan_scrape.git/config.json\u001b[0m\n",
      "['role', 'settings']\n",
      "test\n",
      "\u001b[92m🌊 SUCCESS: config saved to - /Users/dylanmoore/VSCode/LLM/swan_scrape.git/config.json (overwrite)\u001b[0m\n",
      "\u001b[92m🌊 SUCCESS: config loaded from - /Users/dylanmoore/VSCode/LLM/swan_scrape.git/config.json\u001b[0m\n",
      "server: example\n"
     ]
    }
   ],
   "source": [
    "# declare existing config from file\n",
    "from swan.config import Config\n",
    "example = Config(\"./config.json\")\n",
    "# put it in memory\n",
    "conf = example.use()\n",
    "_l = lambda _: list(_)\n",
    "print(_l(conf.keys()))\n",
    "print(conf[\"settings\"][\"name\"])\n",
    "# change a value & save\n",
    "conf[\"settings\"][\"name\"] = 'example'\n",
    "example.save()\n",
    "# remove from memory\n",
    "c, conf = (None, None)\n",
    "# load again\n",
    "example = Config(\"./config.json\")\n",
    "conf = example.use()\n",
    "role, name = conf['role'], conf['settings']['name']\n",
    "# see that the value has changed\n",
    "print(f'{role}: {name}')"
   ]
  },
  {
   "cell_type": "code",
   "execution_count": 9,
   "id": "f1c8bab1",
   "metadata": {},
   "outputs": [
    {
     "name": "stdout",
     "output_type": "stream",
     "text": [
      "\u001b[92m🌊 SUCCESS: unboxed! 🦢📦 - /Users/dylanmoore/VSCode/LLM/swan_scrape.git/example \u001b[0m\n",
      "\u001b[91m☠️ FATAL: exists - /Users/dylanmoore/VSCode/LLM/swan_scrape.git/example\u001b[0m\n",
      "\u001b[93m🚨 WARN: example destroyed\u001b[0m\n"
     ]
    }
   ],
   "source": [
    "# overrides\n",
    "example.unbox(True)\n",
    "example.unbox()\n",
    "example.destroy('example')"
   ]
  },
  {
   "cell_type": "code",
   "execution_count": 10,
   "id": "ca540024",
   "metadata": {},
   "outputs": [
    {
     "name": "stdout",
     "output_type": "stream",
     "text": [
      "\u001b[92m🌊 SUCCESS: unboxed! 🦢📦 using - /Users/dylanmoore/VSCode/LLM/swan_scrape.git/fin-swan/config.json \u001b[0m\n",
      "\u001b[92m🌊 SUCCESS: config loaded from - /Users/dylanmoore/VSCode/LLM/swan_scrape.git/fin-swan/config.json/config.json\u001b[0m\n",
      "\u001b[93m🚨 WARN: fin-swan destroyed\u001b[0m\n"
     ]
    }
   ],
   "source": [
    "# initialize from memory i.e. API response\n",
    "fin_conf = {\n",
    "    \"role\": \"server\",\n",
    "    \"settings\": {\n",
    "        \"name\": \"fin-swan\",\n",
    "        \"proj_dir\": \"/Users/dylanmoore/VSCode/LLM/swan_scrape.git/\",\n",
    "        \"jobs\": [\n",
    "            {\n",
    "                \"url\": \"https://www.federalreserve.gov/monetarypolicy/fomchistorical2017.htm\",\n",
    "                \"types\": [],\n",
    "                \"janitor\": 0,\n",
    "                \"custom\": [\n",
    "                    {\n",
    "                        \"func\": \"\"\n",
    "                        , \"types\": [\"\"]\n",
    "                    }\n",
    "                ]\n",
    "            }\n",
    "        ]\n",
    "    }\n",
    "}\n",
    "direct_load = Config(fin_conf)\n",
    "direct_load.use()\n",
    "direct_load.destroy('fin-swan')"
   ]
  },
  {
   "cell_type": "code",
   "execution_count": 4,
   "id": "dd7a0772",
   "metadata": {},
   "outputs": [
    {
     "name": "stdout",
     "output_type": "stream",
     "text": [
      "\u001b[92m🌊 SUCCESS: unboxed! 🦢📦 using - /Users/dylanmoore/VSCode/LLM/swan_scrape.git/fin-swan/config.json \u001b[0m\n",
      "\u001b[92m🌊 SUCCESS: config loaded from - /Users/dylanmoore/VSCode/LLM/swan_scrape.git/fin-swan/config.json/config.json\u001b[0m\n",
      "\u001b[94mℹ️ INFO: written - /Users/dylanmoore/VSCode/LLM/swan_scrape.git/fin-swan/fed.txt\u001b[0m\n",
      "\u001b[93m🚨 WARN: receipts first create\u001b[0m\n",
      "\u001b[96m☕️ WAIT: no header set - attempting `.keys()`\u001b[0m\n",
      "\u001b[92m🌊 SUCCESS: headers detected as ['file', 'path'] from `.keys()`\u001b[0m\n",
      "\u001b[94mℹ️ INFO: [file, path, ts] header used\u001b[0m\n",
      "\u001b[94mℹ️ INFO: created /Users/dylanmoore/VSCode/LLM/swan_scrape.git/fin-swan/fed.csv\u001b[0m\n",
      "\u001b[94mℹ️ INFO: timestamped - 2023-09-01 20:50:01.466241\u001b[0m\n",
      "\u001b[92m🌊 SUCCESS: 1 written to /Users/dylanmoore/VSCode/LLM/swan_scrape.git/fin-swan/fed.csv\u001b[0m\n",
      "\u001b[94mℹ️ INFO: written - /Users/dylanmoore/VSCode/LLM/swan_scrape.git/fin-swan/fed_processed.txt\u001b[0m\n"
     ]
    }
   ],
   "source": [
    "# all together now 🎶\n",
    "from swan.copier import Copier\n",
    "from swan.receipts import Receipts\n",
    "from swan.config import Config\n",
    "from swan.janitor import Janitor\n",
    "import os\n",
    "\n",
    "fin_conf = {\n",
    "    \"role\": \"server\",\n",
    "    \"settings\": {\n",
    "        \"name\": \"fin-swan\",\n",
    "        \"proj_dir\": \"/Users/dylanmoore/VSCode/LLM/swan_scrape.git/\",\n",
    "        \"jobs\": [\n",
    "            {\n",
    "                \"url\": \"https://www.federalreserve.gov/monetarypolicy/fomchistorical2017.htm\",\n",
    "                \"types\": [],\n",
    "                \"janitor\": 0,\n",
    "                \"custom\": [\n",
    "                    {\n",
    "                        \"func\": \"\"\n",
    "                        , \"types\": [\"\"]\n",
    "                    }\n",
    "                ]\n",
    "            }\n",
    "        ]\n",
    "    }\n",
    "}\n",
    "direct_load = Config(fin_conf)\n",
    "c = direct_load.use()\n",
    "p = os.path.join(c['settings']['proj_dir'], c['settings']['name'])\n",
    "data = []\n",
    "for job in c['settings']['jobs']:\n",
    "    copy = Copier(url=job['url'])\n",
    "    if copy.download(p+'/fed.txt'):\n",
    "        data.append({\"file\":copy.url, \"path\":f'{copy.path}'})\n",
    "receipts = Receipts(path=p+'/fed.csv', data=data)\n",
    "receipts.create()\n",
    "receipts.write()\n",
    "worker = Janitor(p+'/fed.txt', o=p+'/fed_processed.txt')\n",
    "worker.process()"
   ]
  },
  {
   "cell_type": "code",
   "execution_count": 5,
   "id": "f3db1144",
   "metadata": {},
   "outputs": [
    {
     "name": "stdout",
     "output_type": "stream",
     "text": [
      "\u001b[93m🚨 WARN: fin-swan destroyed\u001b[0m\n"
     ]
    }
   ],
   "source": [
    "# that easy\n",
    "direct_load.destroy('fin-swan')"
   ]
  },
  {
   "cell_type": "code",
   "execution_count": null,
   "id": "c3f9e424",
   "metadata": {},
   "outputs": [],
   "source": []
  }
 ],
 "metadata": {
  "kernelspec": {
   "display_name": "Python 3 (ipykernel)",
   "language": "python",
   "name": "python3"
  },
  "language_info": {
   "codemirror_mode": {
    "name": "ipython",
    "version": 3
   },
   "file_extension": ".py",
   "mimetype": "text/x-python",
   "name": "python",
   "nbconvert_exporter": "python",
   "pygments_lexer": "ipython3",
   "version": "3.11.5"
  }
 },
 "nbformat": 4,
 "nbformat_minor": 5
}
