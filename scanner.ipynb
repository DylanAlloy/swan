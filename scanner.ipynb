{
 "cells": [
  {
   "cell_type": "code",
   "execution_count": 1,
   "id": "713e5975-ef92-434a-a96a-7027e2aa3c2f",
   "metadata": {},
   "outputs": [
    {
     "name": "stdout",
     "output_type": "stream",
     "text": [
      "\u001b[94mℹ️ INFO: written - ./fed.txt\u001b[0m\n",
      "\u001b[93m🚨 WARN: path not found\u001b[0m\n",
      "\u001b[96m☕️ WAIT: no header set - attempting `.keys()`\u001b[0m\n",
      "\u001b[92m🌊 SUCCESS: headers detected as ['file', 'path'] from `.keys()`\u001b[0m\n",
      "\u001b[94mℹ️ INFO: [file, path, ts] header used\u001b[0m\n",
      "\u001b[94mℹ️ INFO: created ./fed.csv\u001b[0m\n",
      "\u001b[94mℹ️ INFO: timestamped - 2023-08-31 16:11:37.640819\u001b[0m\n",
      "\u001b[92m🌊 SUCCESS: 1 written to ./fed.csv\u001b[0m\n",
      "\u001b[93m🚨 WARN: fed.txt destroyed from ./fed.txt\u001b[0m\n",
      "\u001b[93m🚨 WARN: fed.csv destroyed from ./fed.csv\u001b[0m\n"
     ]
    }
   ],
   "source": [
    "# single file & receipt creation, then deletion\n",
    "from swan.copier import Copier\n",
    "from swan.receipts import Receipts\n",
    "data = []\n",
    "copy = Copier(url='https://www.federalreserve.gov/monetarypolicy/fomchistorical2017.htm')\n",
    "if copy.download('./fed.txt'):\n",
    "    data.append({\"file\":copy.url, \"path\":f'{copy.path}'})\n",
    "receipts = Receipts(path='./fed.csv', data=data)\n",
    "receipts.create(True)\n",
    "receipts.write(False)\n",
    "copy.destroy(confirm=copy.path.split('/')[-1])\n",
    "receipts.destroy(confirm=receipts.path.split('/')[-1])"
   ]
  },
  {
   "cell_type": "code",
   "execution_count": 2,
   "id": "b70be8dc-9224-4c8e-bbf5-5f5d89c43546",
   "metadata": {},
   "outputs": [
    {
     "name": "stdout",
     "output_type": "stream",
     "text": [
      "\u001b[96m☕️ WAIT: processing https://www.federalreserve.gov/monetarypolicy/fomchistorical2017.htm\u001b[0m\n"
     ]
    },
    {
     "name": "stderr",
     "output_type": "stream",
     "text": [
      "100%|██████████| 326/326 [00:00<00:00, 157564.31it/s]"
     ]
    },
    {
     "name": "stdout",
     "output_type": "stream",
     "text": [
      "\u001b[94mℹ️ INFO: found - https://www.federalreserve.gov/monetarypolicy/beigebook/files/Beigebook_20170118.pdf\u001b[0m\n",
      "\u001b[94mℹ️ INFO: found - https://www.federalreserve.gov/monetarypolicy/files/FOMC20170201tealbooka20170123.pdf\u001b[0m\n",
      "\u001b[94mℹ️ INFO: found - https://www.federalreserve.gov/monetarypolicy/files/FOMC20170201tealbookb20170126.pdf\u001b[0m\n",
      "\u001b[94mℹ️ INFO: found - https://www.federalreserve.gov/monetarypolicy/files/FOMC20170201Agenda.pdf\u001b[0m\n",
      "\u001b[94mℹ️ INFO: found - https://www.federalreserve.gov/monetarypolicy/files/FOMC_LongerRunGoals_201701.pdf\u001b[0m\n",
      "\u001b[94mℹ️ INFO: found - https://www.federalreserve.gov/monetarypolicy/files/fomcminutes20170201.pdf\u001b[0m\n",
      "\u001b[94mℹ️ INFO: found - https://www.federalreserve.gov/monetarypolicy/files/FOMC20170201meeting.pdf\u001b[0m\n",
      "\u001b[94mℹ️ INFO: found - https://www.federalreserve.gov/monetarypolicy/files/FOMC20170201material.pdf\u001b[0m\n",
      "\u001b[94mℹ️ INFO: found - https://www.federalreserve.gov/monetarypolicy/files/Beigebook_20170301.pdf\u001b[0m\n",
      "\u001b[94mℹ️ INFO: found - https://www.federalreserve.gov/monetarypolicy/files/FOMC20170315tealbooka20170303.pdf\u001b[0m\n",
      "\u001b[94mℹ️ INFO: found - https://www.federalreserve.gov/monetarypolicy/files/FOMC20170315tealbookb20170309.pdf\u001b[0m\n",
      "\u001b[94mℹ️ INFO: found - https://www.federalreserve.gov/monetarypolicy/files/FOMC20170315Agenda.pdf\u001b[0m\n",
      "\u001b[94mℹ️ INFO: found - https://www.federalreserve.gov/monetarypolicy/files/fomcminutes20170315.pdf\u001b[0m\n",
      "\u001b[94mℹ️ INFO: found - https://www.federalreserve.gov/monetarypolicy/files/FOMC20170315SEPcompilation.pdf\u001b[0m\n",
      "\u001b[94mℹ️ INFO: found - https://www.federalreserve.gov/monetarypolicy/files/FOMC20170315SEPkey.pdf\u001b[0m\n",
      "\u001b[94mℹ️ INFO: found - https://www.federalreserve.gov/monetarypolicy/files/FOMC20170315meeting.pdf\u001b[0m\n",
      "\u001b[94mℹ️ INFO: found - https://www.federalreserve.gov/monetarypolicy/files/FOMC20170315material.pdf\u001b[0m\n",
      "\u001b[94mℹ️ INFO: found - https://www.federalreserve.gov/monetarypolicy/files/Beigebook_20170419.pdf\u001b[0m\n",
      "\u001b[94mℹ️ INFO: found - https://www.federalreserve.gov/monetarypolicy/files/FOMC20170503tealbooka20170421.pdf\u001b[0m\n",
      "\u001b[94mℹ️ INFO: found - https://www.federalreserve.gov/monetarypolicy/files/FOMC20170503tealbookb20170427.pdf\u001b[0m\n",
      "\u001b[94mℹ️ INFO: found - https://www.federalreserve.gov/monetarypolicy/files/FOMC20170503Agenda.pdf\u001b[0m\n",
      "\u001b[94mℹ️ INFO: found - https://www.federalreserve.gov/monetarypolicy/files/fomcminutes20170503.pdf\u001b[0m\n",
      "\u001b[94mℹ️ INFO: found - https://www.federalreserve.gov/monetarypolicy/files/FOMC20170503meeting.pdf\u001b[0m\n",
      "\u001b[94mℹ️ INFO: found - https://www.federalreserve.gov/monetarypolicy/files/FOMC20170503material.pdf\u001b[0m\n",
      "\u001b[94mℹ️ INFO: found - https://www.federalreserve.gov/monetarypolicy/files/BeigeBook_20170531.pdf\u001b[0m\n",
      "\u001b[94mℹ️ INFO: found - https://www.federalreserve.gov/monetarypolicy/files/FOMC20170614tealbooka20170605.pdf\u001b[0m\n",
      "\u001b[94mℹ️ INFO: found - https://www.federalreserve.gov/monetarypolicy/files/FOMC20170614tealbookb20170608.pdf\u001b[0m\n",
      "\u001b[94mℹ️ INFO: found - https://www.federalreserve.gov/monetarypolicy/files/FOMC20170614Agenda.pdf\u001b[0m\n",
      "\u001b[94mℹ️ INFO: found - https://www.federalreserve.gov/monetarypolicy/files/fomcminutes20170614.pdf\u001b[0m\n",
      "\u001b[94mℹ️ INFO: found - https://www.federalreserve.gov/monetarypolicy/files/FOMC20170614SEPcompilation.pdf\u001b[0m\n",
      "\u001b[94mℹ️ INFO: found - https://www.federalreserve.gov/monetarypolicy/files/FOMC20170614SEPkey.pdf\u001b[0m\n",
      "\u001b[94mℹ️ INFO: found - https://www.federalreserve.gov/monetarypolicy/files/FOMC20170614meeting.pdf\u001b[0m\n",
      "\u001b[94mℹ️ INFO: found - https://www.federalreserve.gov/monetarypolicy/files/FOMC20170614material.pdf\u001b[0m\n",
      "\u001b[94mℹ️ INFO: found - https://www.federalreserve.gov/monetarypolicy/files/BeigeBook_20170712.pdf\u001b[0m\n",
      "\u001b[94mℹ️ INFO: found - https://www.federalreserve.gov/monetarypolicy/files/FOMC20170726tealbooka20170714.pdf\u001b[0m\n",
      "\u001b[94mℹ️ INFO: found - https://www.federalreserve.gov/monetarypolicy/files/FOMC20170726tealbookb20170720.pdf\u001b[0m\n",
      "\u001b[94mℹ️ INFO: found - https://www.federalreserve.gov/monetarypolicy/files/FOMC20170726Agenda.pdf\u001b[0m\n",
      "\u001b[94mℹ️ INFO: found - https://www.federalreserve.gov/monetarypolicy/files/fomcminutes20170726.pdf\u001b[0m\n",
      "\u001b[94mℹ️ INFO: found - https://www.federalreserve.gov/monetarypolicy/files/FOMC20170726meeting.pdf\u001b[0m\n",
      "\u001b[94mℹ️ INFO: found - https://www.federalreserve.gov/monetarypolicy/files/FOMC20170726material.pdf\u001b[0m\n",
      "\u001b[94mℹ️ INFO: found - https://www.federalreserve.gov/monetarypolicy/files/Beigebook_20170906.pdf\u001b[0m\n",
      "\u001b[94mℹ️ INFO: found - https://www.federalreserve.gov/monetarypolicy/files/FOMC20170920tealbooka20170908.pdf\u001b[0m\n",
      "\u001b[94mℹ️ INFO: found - https://www.federalreserve.gov/monetarypolicy/files/FOMC20170920tealbookb20170914.pdf\u001b[0m\n",
      "\u001b[94mℹ️ INFO: found - https://www.federalreserve.gov/monetarypolicy/files/FOMC20170920Agenda.pdf\u001b[0m\n",
      "\u001b[94mℹ️ INFO: found - https://www.federalreserve.gov/monetarypolicy/files/fomcminutes20170920.pdf\u001b[0m\n",
      "\u001b[94mℹ️ INFO: found - https://www.federalreserve.gov/monetarypolicy/files/FOMC20170920SEPcompilation.pdf\u001b[0m\n",
      "\u001b[94mℹ️ INFO: found - https://www.federalreserve.gov/monetarypolicy/files/FOMC20170920SEPkey.pdf\u001b[0m\n",
      "\u001b[94mℹ️ INFO: found - https://www.federalreserve.gov/monetarypolicy/files/FOMC20170920meeting.pdf\u001b[0m\n",
      "\u001b[94mℹ️ INFO: found - https://www.federalreserve.gov/monetarypolicy/files/FOMC20170920material.pdf\u001b[0m\n",
      "\u001b[94mℹ️ INFO: found - https://www.federalreserve.gov/monetarypolicy/files/BeigeBook_20171018.pdf\u001b[0m\n",
      "\u001b[94mℹ️ INFO: found - https://www.federalreserve.gov/monetarypolicy/files/FOMC20171101tealbooka20171020.pdf\u001b[0m\n",
      "\u001b[94mℹ️ INFO: found - https://www.federalreserve.gov/monetarypolicy/files/FOMC20171101tealbookb20171026.pdf\u001b[0m\n",
      "\u001b[94mℹ️ INFO: found - https://www.federalreserve.gov/monetarypolicy/files/FOMC20171101Agenda.pdf\u001b[0m\n",
      "\u001b[94mℹ️ INFO: found - https://www.federalreserve.gov/monetarypolicy/files/fomcminutes20171101.pdf\u001b[0m\n",
      "\u001b[94mℹ️ INFO: found - https://www.federalreserve.gov/monetarypolicy/files/FOMC20171101meeting.pdf\u001b[0m\n",
      "\u001b[94mℹ️ INFO: found - https://www.federalreserve.gov/monetarypolicy/files/FOMC20171101material.pdf\u001b[0m\n",
      "\u001b[94mℹ️ INFO: found - https://www.federalreserve.gov/monetarypolicy/files/BeigeBook_20171129.pdf\u001b[0m\n",
      "\u001b[94mℹ️ INFO: found - https://www.federalreserve.gov/monetarypolicy/files/FOMC20171213tealbooka20171201.pdf\u001b[0m\n",
      "\u001b[94mℹ️ INFO: found - https://www.federalreserve.gov/monetarypolicy/files/FOMC20171213tealbookb20171207.pdf\u001b[0m\n",
      "\u001b[94mℹ️ INFO: found - https://www.federalreserve.gov/monetarypolicy/files/FOMC20171213Agenda.pdf\u001b[0m\n",
      "\u001b[94mℹ️ INFO: found - https://www.federalreserve.gov/monetarypolicy/files/fomcminutes20171213.pdf\u001b[0m\n",
      "\u001b[94mℹ️ INFO: found - https://www.federalreserve.gov/monetarypolicy/files/FOMC20171213SEPcompilation.pdf\u001b[0m\n",
      "\u001b[94mℹ️ INFO: found - https://www.federalreserve.gov/monetarypolicy/files/FOMC20171213SEPkey.pdf\u001b[0m\n",
      "\u001b[94mℹ️ INFO: found - https://www.federalreserve.gov/monetarypolicy/files/FOMC20171213meeting.pdf\u001b[0m\n",
      "\u001b[94mℹ️ INFO: found - https://www.federalreserve.gov/monetarypolicy/files/FOMC20171213material.pdf\u001b[0m\n"
     ]
    },
    {
     "name": "stderr",
     "output_type": "stream",
     "text": [
      "\n"
     ]
    },
    {
     "name": "stdout",
     "output_type": "stream",
     "text": [
      "\u001b[94mℹ️ INFO: written - ./fed/Beigebook_20170118.pdf\u001b[0m\n",
      "\u001b[94mℹ️ INFO: written - ./fed/FOMC20170201tealbooka20170123.pdf\u001b[0m\n",
      "\u001b[94mℹ️ INFO: written - ./fed/FOMC20170201tealbookb20170126.pdf\u001b[0m\n",
      "\u001b[94mℹ️ INFO: written - ./fed/FOMC20170201Agenda.pdf\u001b[0m\n",
      "\u001b[94mℹ️ INFO: written - ./fed/FOMC_LongerRunGoals_201701.pdf\u001b[0m\n",
      "\u001b[94mℹ️ INFO: written - ./fed/fomcminutes20170201.pdf\u001b[0m\n",
      "\u001b[94mℹ️ INFO: written - ./fed/FOMC20170201meeting.pdf\u001b[0m\n",
      "\u001b[94mℹ️ INFO: written - ./fed/FOMC20170201material.pdf\u001b[0m\n",
      "\u001b[94mℹ️ INFO: written - ./fed/Beigebook_20170301.pdf\u001b[0m\n",
      "\u001b[94mℹ️ INFO: written - ./fed/FOMC20170315tealbooka20170303.pdf\u001b[0m\n",
      "\u001b[94mℹ️ INFO: written - ./fed/FOMC20170315tealbookb20170309.pdf\u001b[0m\n",
      "\u001b[94mℹ️ INFO: written - ./fed/FOMC20170315Agenda.pdf\u001b[0m\n",
      "\u001b[94mℹ️ INFO: written - ./fed/fomcminutes20170315.pdf\u001b[0m\n",
      "\u001b[94mℹ️ INFO: written - ./fed/FOMC20170315SEPcompilation.pdf\u001b[0m\n",
      "\u001b[94mℹ️ INFO: written - ./fed/FOMC20170315SEPkey.pdf\u001b[0m\n",
      "\u001b[94mℹ️ INFO: written - ./fed/FOMC20170315meeting.pdf\u001b[0m\n",
      "\u001b[94mℹ️ INFO: written - ./fed/FOMC20170315material.pdf\u001b[0m\n",
      "\u001b[94mℹ️ INFO: written - ./fed/Beigebook_20170419.pdf\u001b[0m\n",
      "\u001b[94mℹ️ INFO: written - ./fed/FOMC20170503tealbooka20170421.pdf\u001b[0m\n",
      "\u001b[94mℹ️ INFO: written - ./fed/FOMC20170503tealbookb20170427.pdf\u001b[0m\n",
      "\u001b[94mℹ️ INFO: written - ./fed/FOMC20170503Agenda.pdf\u001b[0m\n",
      "\u001b[94mℹ️ INFO: written - ./fed/fomcminutes20170503.pdf\u001b[0m\n",
      "\u001b[94mℹ️ INFO: written - ./fed/FOMC20170503meeting.pdf\u001b[0m\n",
      "\u001b[94mℹ️ INFO: written - ./fed/FOMC20170503material.pdf\u001b[0m\n",
      "\u001b[94mℹ️ INFO: written - ./fed/BeigeBook_20170531.pdf\u001b[0m\n",
      "\u001b[94mℹ️ INFO: written - ./fed/FOMC20170614tealbooka20170605.pdf\u001b[0m\n",
      "\u001b[94mℹ️ INFO: written - ./fed/FOMC20170614tealbookb20170608.pdf\u001b[0m\n",
      "\u001b[94mℹ️ INFO: written - ./fed/FOMC20170614Agenda.pdf\u001b[0m\n",
      "\u001b[94mℹ️ INFO: written - ./fed/fomcminutes20170614.pdf\u001b[0m\n",
      "\u001b[94mℹ️ INFO: written - ./fed/FOMC20170614SEPcompilation.pdf\u001b[0m\n",
      "\u001b[94mℹ️ INFO: written - ./fed/FOMC20170614SEPkey.pdf\u001b[0m\n",
      "\u001b[94mℹ️ INFO: written - ./fed/FOMC20170614meeting.pdf\u001b[0m\n",
      "\u001b[94mℹ️ INFO: written - ./fed/FOMC20170614material.pdf\u001b[0m\n",
      "\u001b[94mℹ️ INFO: written - ./fed/BeigeBook_20170712.pdf\u001b[0m\n",
      "\u001b[94mℹ️ INFO: written - ./fed/FOMC20170726tealbooka20170714.pdf\u001b[0m\n",
      "\u001b[94mℹ️ INFO: written - ./fed/FOMC20170726tealbookb20170720.pdf\u001b[0m\n",
      "\u001b[94mℹ️ INFO: written - ./fed/FOMC20170726Agenda.pdf\u001b[0m\n",
      "\u001b[94mℹ️ INFO: written - ./fed/fomcminutes20170726.pdf\u001b[0m\n",
      "\u001b[94mℹ️ INFO: written - ./fed/FOMC20170726meeting.pdf\u001b[0m\n",
      "\u001b[94mℹ️ INFO: written - ./fed/FOMC20170726material.pdf\u001b[0m\n",
      "\u001b[94mℹ️ INFO: written - ./fed/Beigebook_20170906.pdf\u001b[0m\n",
      "\u001b[94mℹ️ INFO: written - ./fed/FOMC20170920tealbooka20170908.pdf\u001b[0m\n",
      "\u001b[94mℹ️ INFO: written - ./fed/FOMC20170920tealbookb20170914.pdf\u001b[0m\n",
      "\u001b[94mℹ️ INFO: written - ./fed/FOMC20170920Agenda.pdf\u001b[0m\n",
      "\u001b[94mℹ️ INFO: written - ./fed/fomcminutes20170920.pdf\u001b[0m\n",
      "\u001b[94mℹ️ INFO: written - ./fed/FOMC20170920SEPcompilation.pdf\u001b[0m\n",
      "\u001b[94mℹ️ INFO: written - ./fed/FOMC20170920SEPkey.pdf\u001b[0m\n",
      "\u001b[94mℹ️ INFO: written - ./fed/FOMC20170920meeting.pdf\u001b[0m\n",
      "\u001b[94mℹ️ INFO: written - ./fed/FOMC20170920material.pdf\u001b[0m\n",
      "\u001b[94mℹ️ INFO: written - ./fed/BeigeBook_20171018.pdf\u001b[0m\n",
      "\u001b[94mℹ️ INFO: written - ./fed/FOMC20171101tealbooka20171020.pdf\u001b[0m\n",
      "\u001b[94mℹ️ INFO: written - ./fed/FOMC20171101tealbookb20171026.pdf\u001b[0m\n",
      "\u001b[94mℹ️ INFO: written - ./fed/FOMC20171101Agenda.pdf\u001b[0m\n",
      "\u001b[94mℹ️ INFO: written - ./fed/fomcminutes20171101.pdf\u001b[0m\n",
      "\u001b[94mℹ️ INFO: written - ./fed/FOMC20171101meeting.pdf\u001b[0m\n",
      "\u001b[94mℹ️ INFO: written - ./fed/FOMC20171101material.pdf\u001b[0m\n",
      "\u001b[94mℹ️ INFO: written - ./fed/BeigeBook_20171129.pdf\u001b[0m\n",
      "\u001b[94mℹ️ INFO: written - ./fed/FOMC20171213tealbooka20171201.pdf\u001b[0m\n",
      "\u001b[94mℹ️ INFO: written - ./fed/FOMC20171213tealbookb20171207.pdf\u001b[0m\n",
      "\u001b[94mℹ️ INFO: written - ./fed/FOMC20171213Agenda.pdf\u001b[0m\n",
      "\u001b[94mℹ️ INFO: written - ./fed/fomcminutes20171213.pdf\u001b[0m\n",
      "\u001b[94mℹ️ INFO: written - ./fed/FOMC20171213SEPcompilation.pdf\u001b[0m\n",
      "\u001b[94mℹ️ INFO: written - ./fed/FOMC20171213SEPkey.pdf\u001b[0m\n",
      "\u001b[94mℹ️ INFO: written - ./fed/FOMC20171213meeting.pdf\u001b[0m\n",
      "\u001b[94mℹ️ INFO: written - ./fed/FOMC20171213material.pdf\u001b[0m\n",
      "\u001b[92m🌊 SUCCESS: 65 downloaded\u001b[0m\n",
      "\u001b[93m🚨 WARN: path not found\u001b[0m\n",
      "\u001b[96m☕️ WAIT: no header set - attempting `.keys()`\u001b[0m\n",
      "\u001b[92m🌊 SUCCESS: headers detected as ['file', 'path'] from `.keys()`\u001b[0m\n",
      "\u001b[94mℹ️ INFO: [file, path, ts] header used\u001b[0m\n",
      "\u001b[94mℹ️ INFO: created ./fed.csv\u001b[0m\n",
      "\u001b[94mℹ️ INFO: timestamped - 2023-08-31 16:11:58.222287\u001b[0m\n",
      "\u001b[94mℹ️ INFO: timestamped - 2023-08-31 16:11:58.222319\u001b[0m\n",
      "\u001b[94mℹ️ INFO: timestamped - 2023-08-31 16:11:58.222325\u001b[0m\n",
      "\u001b[94mℹ️ INFO: timestamped - 2023-08-31 16:11:58.222330\u001b[0m\n",
      "\u001b[94mℹ️ INFO: timestamped - 2023-08-31 16:11:58.222334\u001b[0m\n",
      "\u001b[94mℹ️ INFO: timestamped - 2023-08-31 16:11:58.222339\u001b[0m\n",
      "\u001b[94mℹ️ INFO: timestamped - 2023-08-31 16:11:58.222344\u001b[0m\n",
      "\u001b[94mℹ️ INFO: timestamped - 2023-08-31 16:11:58.222349\u001b[0m\n",
      "\u001b[94mℹ️ INFO: timestamped - 2023-08-31 16:11:58.222358\u001b[0m\n",
      "\u001b[94mℹ️ INFO: timestamped - 2023-08-31 16:11:58.222362\u001b[0m\n",
      "\u001b[94mℹ️ INFO: timestamped - 2023-08-31 16:11:58.222366\u001b[0m\n",
      "\u001b[94mℹ️ INFO: timestamped - 2023-08-31 16:11:58.222370\u001b[0m\n",
      "\u001b[94mℹ️ INFO: timestamped - 2023-08-31 16:11:58.222374\u001b[0m\n",
      "\u001b[94mℹ️ INFO: timestamped - 2023-08-31 16:11:58.222377\u001b[0m\n",
      "\u001b[94mℹ️ INFO: timestamped - 2023-08-31 16:11:58.222381\u001b[0m\n",
      "\u001b[94mℹ️ INFO: timestamped - 2023-08-31 16:11:58.222385\u001b[0m\n",
      "\u001b[94mℹ️ INFO: timestamped - 2023-08-31 16:11:58.222389\u001b[0m\n",
      "\u001b[94mℹ️ INFO: timestamped - 2023-08-31 16:11:58.222394\u001b[0m\n",
      "\u001b[94mℹ️ INFO: timestamped - 2023-08-31 16:11:58.222398\u001b[0m\n",
      "\u001b[94mℹ️ INFO: timestamped - 2023-08-31 16:11:58.222402\u001b[0m\n",
      "\u001b[94mℹ️ INFO: timestamped - 2023-08-31 16:11:58.222406\u001b[0m\n",
      "\u001b[94mℹ️ INFO: timestamped - 2023-08-31 16:11:58.222410\u001b[0m\n",
      "\u001b[94mℹ️ INFO: timestamped - 2023-08-31 16:11:58.222414\u001b[0m\n",
      "\u001b[94mℹ️ INFO: timestamped - 2023-08-31 16:11:58.222418\u001b[0m\n",
      "\u001b[94mℹ️ INFO: timestamped - 2023-08-31 16:11:58.222422\u001b[0m\n",
      "\u001b[94mℹ️ INFO: timestamped - 2023-08-31 16:11:58.222426\u001b[0m\n",
      "\u001b[94mℹ️ INFO: timestamped - 2023-08-31 16:11:58.222430\u001b[0m\n",
      "\u001b[94mℹ️ INFO: timestamped - 2023-08-31 16:11:58.222434\u001b[0m\n",
      "\u001b[94mℹ️ INFO: timestamped - 2023-08-31 16:11:58.222438\u001b[0m\n",
      "\u001b[94mℹ️ INFO: timestamped - 2023-08-31 16:11:58.222442\u001b[0m\n",
      "\u001b[94mℹ️ INFO: timestamped - 2023-08-31 16:11:58.222446\u001b[0m\n",
      "\u001b[94mℹ️ INFO: timestamped - 2023-08-31 16:11:58.222450\u001b[0m\n",
      "\u001b[94mℹ️ INFO: timestamped - 2023-08-31 16:11:58.222454\u001b[0m\n",
      "\u001b[94mℹ️ INFO: timestamped - 2023-08-31 16:11:58.222458\u001b[0m\n",
      "\u001b[94mℹ️ INFO: timestamped - 2023-08-31 16:11:58.222462\u001b[0m\n",
      "\u001b[94mℹ️ INFO: timestamped - 2023-08-31 16:11:58.222466\u001b[0m\n",
      "\u001b[94mℹ️ INFO: timestamped - 2023-08-31 16:11:58.222470\u001b[0m\n",
      "\u001b[94mℹ️ INFO: timestamped - 2023-08-31 16:11:58.222474\u001b[0m\n",
      "\u001b[94mℹ️ INFO: timestamped - 2023-08-31 16:11:58.222478\u001b[0m\n",
      "\u001b[94mℹ️ INFO: timestamped - 2023-08-31 16:11:58.222482\u001b[0m\n",
      "\u001b[94mℹ️ INFO: timestamped - 2023-08-31 16:11:58.222486\u001b[0m\n",
      "\u001b[94mℹ️ INFO: timestamped - 2023-08-31 16:11:58.222490\u001b[0m\n",
      "\u001b[94mℹ️ INFO: timestamped - 2023-08-31 16:11:58.222494\u001b[0m\n",
      "\u001b[94mℹ️ INFO: timestamped - 2023-08-31 16:11:58.222502\u001b[0m\n",
      "\u001b[94mℹ️ INFO: timestamped - 2023-08-31 16:11:58.222506\u001b[0m\n",
      "\u001b[94mℹ️ INFO: timestamped - 2023-08-31 16:11:58.222510\u001b[0m\n",
      "\u001b[94mℹ️ INFO: timestamped - 2023-08-31 16:11:58.222514\u001b[0m\n",
      "\u001b[94mℹ️ INFO: timestamped - 2023-08-31 16:11:58.222518\u001b[0m\n",
      "\u001b[94mℹ️ INFO: timestamped - 2023-08-31 16:11:58.222523\u001b[0m\n",
      "\u001b[94mℹ️ INFO: timestamped - 2023-08-31 16:11:58.222527\u001b[0m\n",
      "\u001b[94mℹ️ INFO: timestamped - 2023-08-31 16:11:58.222530\u001b[0m\n",
      "\u001b[94mℹ️ INFO: timestamped - 2023-08-31 16:11:58.222534\u001b[0m\n",
      "\u001b[94mℹ️ INFO: timestamped - 2023-08-31 16:11:58.222538\u001b[0m\n",
      "\u001b[94mℹ️ INFO: timestamped - 2023-08-31 16:11:58.222542\u001b[0m\n",
      "\u001b[94mℹ️ INFO: timestamped - 2023-08-31 16:11:58.222546\u001b[0m\n",
      "\u001b[94mℹ️ INFO: timestamped - 2023-08-31 16:11:58.222550\u001b[0m\n",
      "\u001b[94mℹ️ INFO: timestamped - 2023-08-31 16:11:58.222554\u001b[0m\n",
      "\u001b[94mℹ️ INFO: timestamped - 2023-08-31 16:11:58.222558\u001b[0m\n",
      "\u001b[94mℹ️ INFO: timestamped - 2023-08-31 16:11:58.222563\u001b[0m\n",
      "\u001b[94mℹ️ INFO: timestamped - 2023-08-31 16:11:58.222567\u001b[0m\n",
      "\u001b[94mℹ️ INFO: timestamped - 2023-08-31 16:11:58.222571\u001b[0m\n",
      "\u001b[94mℹ️ INFO: timestamped - 2023-08-31 16:11:58.222575\u001b[0m\n",
      "\u001b[94mℹ️ INFO: timestamped - 2023-08-31 16:11:58.222579\u001b[0m\n",
      "\u001b[94mℹ️ INFO: timestamped - 2023-08-31 16:11:58.222582\u001b[0m\n",
      "\u001b[94mℹ️ INFO: timestamped - 2023-08-31 16:11:58.222586\u001b[0m\n",
      "\u001b[92m🌊 SUCCESS: 65 written to ./fed.csv\u001b[0m\n",
      "\u001b[93m🚨 WARN: 65 destroyed from ./fed\u001b[0m\n",
      "\u001b[93m🚨 WARN: fed.csv destroyed from ./fed.csv\u001b[0m\n"
     ]
    }
   ],
   "source": [
    "# recursive mode with three filetypes, and whole directory deletion\n",
    "from swan.copier import Copier\n",
    "from swan.receipts import Receipts\n",
    "\n",
    "copy = Copier(url='https://www.federalreserve.gov/monetarypolicy/fomchistorical2017.htm', recurse=True)\n",
    "data=[]\n",
    "files = copy.download('./fed', types=['csv','xml','pdf'])[0]\n",
    "for file in files:\n",
    "    data.append({\"file\":file, \"path\":f'{copy.path}/{file.split(\"/\")[-1]}'})\n",
    "receipts = Receipts('./fed.csv', data=data)\n",
    "receipts.create(False)\n",
    "receipts.write(False)\n",
    "copy.destroy(confirm=copy.path.split('/')[-1])\n",
    "receipts.destroy(confirm=receipts.path.split('/')[-1])"
   ]
  },
  {
   "cell_type": "code",
   "execution_count": 3,
   "id": "03428f57-8b54-430b-95dc-1ecde4f1fdde",
   "metadata": {},
   "outputs": [
    {
     "name": "stdout",
     "output_type": "stream",
     "text": [
      "\n"
     ]
    }
   ],
   "source": [
    "from swan.supplies import Custom\n",
    "data = 'linkbase:hello there'\n",
    "SECSifter = Custom(copy=data)\n",
    "\n",
    "# example custom anonymous function\n",
    "SECSifter.sift = lambda _: '' if _.startswith('linkbase:') else _\n",
    "\n",
    "sifted = SECSifter.sift(data)\n",
    "print(sifted)"
   ]
  },
  {
   "cell_type": "code",
   "execution_count": 4,
   "id": "8d9a567f",
   "metadata": {},
   "outputs": [
    {
     "name": "stdout",
     "output_type": "stream",
     "text": [
      "hello there\n",
      "KEY: hello there\n",
      "\n"
     ]
    }
   ],
   "source": [
    "data = '<html>hello there</html>'\n",
    "from swan.supplies import Broom\n",
    "clean = Broom(copy=data).sweep()\n",
    "print(clean)\n",
    "xml = '<KEY>hello there</KEY>'\n",
    "clean = Broom(copy=xml).sweep(xml=True)\n",
    "print(clean)"
   ]
  },
  {
   "cell_type": "code",
   "execution_count": 5,
   "id": "54ae2f78",
   "metadata": {},
   "outputs": [
    {
     "name": "stdout",
     "output_type": "stream",
     "text": [
      "\u001b[93m🚨 WARN: invalid path\u001b[0m\n",
      "\u001b[91m☠️ FATAL: invalid path\u001b[0m\n",
      "\u001b[91m☠️ FATAL: invalid path\u001b[0m\n"
     ]
    }
   ],
   "source": [
    "from swan.janitor import Janitor\n",
    "worker = Janitor(path='./fed.txt', o='./fed_processed.txt')\n",
    "worker.process()\n",
    "worker.destroy(confirm=worker.o.split('/')[-1])"
   ]
  },
  {
   "cell_type": "code",
   "execution_count": null,
   "id": "5cee67ed",
   "metadata": {},
   "outputs": [],
   "source": []
  },
  {
   "cell_type": "code",
   "execution_count": null,
   "id": "78d34e70",
   "metadata": {},
   "outputs": [],
   "source": []
  }
 ],
 "metadata": {
  "kernelspec": {
   "display_name": "Python 3 (ipykernel)",
   "language": "python",
   "name": "python3"
  },
  "language_info": {
   "codemirror_mode": {
    "name": "ipython",
    "version": 3
   },
   "file_extension": ".py",
   "mimetype": "text/x-python",
   "name": "python",
   "nbconvert_exporter": "python",
   "pygments_lexer": "ipython3",
   "version": "3.11.5"
  }
 },
 "nbformat": 4,
 "nbformat_minor": 5
}
