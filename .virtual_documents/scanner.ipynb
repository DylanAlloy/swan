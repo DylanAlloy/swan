!pip install tqdm


# single file & receipt creation, then deletion
from copier import Copier
from receipts import Receipts
data = []
copy = Copier(url='https://www.federalreserve.gov/monetarypolicy/fomchistorical2017.htm')
if copy.download('/media/dylan/AI/swanscrape/fed.txt'):
    data.append({"file":copy.url, "path":f'{copy.path}'})
receipts = Receipts('/media/dylan/AI/swanscrape/fed.csv', data=data)
receipts.create(True)
receipts.write(False)
copy.destroy(confirm='fed.txt')
receipts.destroy(confirm="fed.csv")


# recursive mode with three filetypes, and whole directory deletion
from copier import Copier
from receipts import Receipts

copy = Copier(url='https://www.federalreserve.gov/monetarypolicy/fomchistorical2017.htm', recurse=True)
data=[]
files = copy.download('/media/dylan/AI/swanscrape/fed', types=['csv','xml','pdf'])[0]
for file in files:
    data.append({"file":file, "path":f'{copy.path}/{file.split("/")[-1]}'})
receipts = Receipts('/media/dylan/AI/swanscrape/fed.csv', data=data)
receipts.create(False)
receipts.write(False)
copy.destroy(confirm='fed')
receipts.destroy(confirm="fed.csv")



