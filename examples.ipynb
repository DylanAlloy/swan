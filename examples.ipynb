{
 "cells": [
  {
   "cell_type": "code",
   "execution_count": 1,
   "id": "ca540024",
   "metadata": {},
   "outputs": [
    {
     "name": "stdout",
     "output_type": "stream",
     "text": [
      "\u001b[92m🌊 SUCCESS: config set from - ./config.json\u001b[0m\n",
      "\u001b[94mℹ️ INFO: config saved to - /Users/P2941938/VSCode/Research/swan_scrape.git/example  (overwrite)\u001b[0m\n",
      "\u001b[92m🌊 SUCCESS: unboxed! 🦢📦 - /Users/P2941938/VSCode/Research/swan_scrape.git/example \u001b[0m\n",
      "\u001b[96m☕️ WAIT: swanning with \"example\"\u001b[0m\n",
      "\u001b[94mℹ️ INFO: Copier initialized\u001b[0m\n",
      "\u001b[94mℹ️ INFO: Receipts initialized\u001b[0m\n",
      "\u001b[94mℹ️ INFO: Janitor initialized\u001b[0m\n",
      "\u001b[94mℹ️ INFO: written - /Users/P2941938/VSCode/Research/swan_scrape.git/example/fomchistorical2017.htm\u001b[0m\n",
      "\u001b[96m☕️ WAIT: setting header with `.keys()`\u001b[0m\n",
      "\u001b[92m🌊 SUCCESS: headers detected as ['file', 'path'] from `.keys()`\u001b[0m\n",
      "\u001b[94mℹ️ INFO: created /Users/P2941938/VSCode/Research/swan_scrape.git/example\u001b[0m\n",
      "\u001b[94mℹ️ INFO: timestamped - 2023-09-03 14:56:42.180252\u001b[0m\n",
      "\u001b[92m🌊 SUCCESS: 1 written to /Users/P2941938/VSCode/Research/swan_scrape.git/example/receipts.csv\u001b[0m\n",
      "\u001b[94mℹ️ INFO: written - /Users/P2941938/VSCode/Research/swan_scrape.git/example/fomchistorical2017_cleaned.txt\u001b[0m\n",
      "\u001b[92m🌊 SUCCESS: 🦢 done\u001b[0m\n"
     ]
    }
   ],
   "source": [
    "from swan import swan\n",
    "auto = swan.Swan('./config.json')\n",
    "auto.go()"
   ]
  },
  {
   "cell_type": "code",
   "execution_count": null,
   "id": "9a8fb48c",
   "metadata": {},
   "outputs": [],
   "source": []
  }
 ],
 "metadata": {
  "kernelspec": {
   "display_name": "Python 3 (ipykernel)",
   "language": "python",
   "name": "python3"
  },
  "language_info": {
   "codemirror_mode": {
    "name": "ipython",
    "version": 3
   },
   "file_extension": ".py",
   "mimetype": "text/x-python",
   "name": "python",
   "nbconvert_exporter": "python",
   "pygments_lexer": "ipython3",
   "version": "3.11.4"
  }
 },
 "nbformat": 4,
 "nbformat_minor": 5
}
