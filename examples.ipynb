{
 "cells": [
  {
   "cell_type": "code",
   "execution_count": 2,
   "id": "ca540024",
   "metadata": {},
   "outputs": [
    {
     "name": "stdout",
     "output_type": "stream",
     "text": [
      "\u001b[92m🌊 SUCCESS: config set from - ./config.json\u001b[0m\n",
      "\u001b[94mℹ️ INFO: config saved to - /Users/P2941938/VSCode/Research/swan_scrape.git/example  (overwrite)\u001b[0m\n",
      "\u001b[92m🌊 SUCCESS: unboxed! 🦢📦 - /Users/P2941938/VSCode/Research/swan_scrape.git/example \u001b[0m\n",
      "\u001b[96m☕️ WAIT: swanning with \"example\"\u001b[0m\n",
      "\u001b[94mℹ️ INFO: Copier initialized\u001b[0m\n",
      "\u001b[94mℹ️ INFO: Receipts initialized\u001b[0m\n",
      "\u001b[94mℹ️ INFO: Janitor initialized\u001b[0m\n",
      "\u001b[94mℹ️ INFO: written - /Users/P2941938/VSCode/Research/swan_scrape.git/example/fomchistorical2017.htm\u001b[0m\n",
      "\u001b[96m☕️ WAIT: setting header with `.keys()`\u001b[0m\n",
      "\u001b[92m🌊 SUCCESS: headers detected as ['file', 'path'] from `.keys()`\u001b[0m\n",
      "\u001b[94mℹ️ INFO: created /Users/P2941938/VSCode/Research/swan_scrape.git/example/receipts.csv\u001b[0m\n",
      "\u001b[94mℹ️ INFO: timestamped - 2023-09-03 16:30:23.739943\u001b[0m\n",
      "\u001b[92m🌊 SUCCESS: 1 written to /Users/P2941938/VSCode/Research/swan_scrape.git/example/receipts.csv\u001b[0m\n",
      "\u001b[94mℹ️ INFO: written - /Users/P2941938/VSCode/Research/swan_scrape.git/example/fomchistorical2017_cleaned.txt\u001b[0m\n",
      "\u001b[92m🌊 SUCCESS: 🦢 done\u001b[0m\n"
     ]
    }
   ],
   "source": [
    "from swan import swan\n",
    "auto = swan.Swan('./config.json')\n",
    "run = auto.go()"
   ]
  },
  {
   "cell_type": "code",
   "execution_count": 3,
   "id": "9a8fb48c",
   "metadata": {},
   "outputs": [
    {
     "name": "stdout",
     "output_type": "stream",
     "text": [
      "{'config': <swan.config.Config object at 0x12aa59f10>, 'copier': <swan.copier.Copier object at 0x12aa58190>, 'receipts': <swan.receipts.Receipts object at 0x12aafc750>, 'janitor': <swan.janitor.Janitor object at 0x11ff87410>, 'data': [{'file': 'https://www.federalreserve.gov/monetarypolicy/fomchistorical2017.htm', 'path': '/Users/P2941938/VSCode/Research/swan_scrape.git/example/fomchistorical2017.htm', 'ts': datetime.datetime(2023, 9, 3, 16, 30, 23, 739943)}], 'status': 'complete'}\n",
      "\u001b[93m🚨 WARN: example destroyed\u001b[0m\n"
     ]
    }
   ],
   "source": [
    "print(run)\n",
    "auto.destroy('example')"
   ]
  },
  {
   "cell_type": "code",
   "execution_count": null,
   "id": "2792d63d",
   "metadata": {},
   "outputs": [],
   "source": []
  }
 ],
 "metadata": {
  "kernelspec": {
   "display_name": "Python 3 (ipykernel)",
   "language": "python",
   "name": "python3"
  },
  "language_info": {
   "codemirror_mode": {
    "name": "ipython",
    "version": 3
   },
   "file_extension": ".py",
   "mimetype": "text/x-python",
   "name": "python",
   "nbconvert_exporter": "python",
   "pygments_lexer": "ipython3",
   "version": "3.11.4"
  }
 },
 "nbformat": 4,
 "nbformat_minor": 5
}
